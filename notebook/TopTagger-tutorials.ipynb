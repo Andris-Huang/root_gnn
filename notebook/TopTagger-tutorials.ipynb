{
 "cells": [
  {
   "cell_type": "code",
   "execution_count": 1,
   "metadata": {
    "tags": []
   },
   "outputs": [
    {
     "name": "stdout",
     "output_type": "stream",
     "text": [
      "Collecting git+https://github.com/xju2/root_gnn.git@release2.0\n",
      "  Cloning https://github.com/xju2/root_gnn.git (to revision release2.0) to /tmp/pip-req-build-xyavfmkn\n",
      "Collecting graph_nets@ https://github.com/deepmind/graph_nets/tarball/master\n",
      "  Using cached https://github.com/deepmind/graph_nets/tarball/master\n",
      "Requirement already satisfied: future in /global/cfs/cdirs/atlas/xju/conda/envs/tf2.4/lib/python3.8/site-packages (from root-gnn==2.0.0) (0.18.2)\n",
      "Requirement already satisfied: networkx in /global/cfs/cdirs/atlas/xju/conda/envs/tf2.4/lib/python3.8/site-packages (from root-gnn==2.0.0) (2.5.1)\n",
      "Requirement already satisfied: numpy in /global/cfs/cdirs/atlas/xju/conda/envs/tf2.4/lib/python3.8/site-packages (from root-gnn==2.0.0) (1.19.5)\n",
      "Requirement already satisfied: scipy in /global/cfs/cdirs/atlas/xju/conda/envs/tf2.4/lib/python3.8/site-packages (from root-gnn==2.0.0) (1.6.2)\n",
      "Requirement already satisfied: pandas in /global/cfs/cdirs/atlas/xju/conda/envs/tf2.4/lib/python3.8/site-packages (from root-gnn==2.0.0) (1.2.4)\n",
      "Requirement already satisfied: tables in /global/u1/x/xju/.local/lib/python3.8/site-packages (from root-gnn==2.0.0) (3.6.1)\n",
      "Requirement already satisfied: setuptools in /global/cfs/cdirs/atlas/xju/conda/envs/tf2.4/lib/python3.8/site-packages (from root-gnn==2.0.0) (52.0.0.post20210125)\n",
      "Requirement already satisfied: six in /global/cfs/cdirs/atlas/xju/conda/envs/tf2.4/lib/python3.8/site-packages (from root-gnn==2.0.0) (1.15.0)\n",
      "Requirement already satisfied: matplotlib in /global/cfs/cdirs/atlas/xju/conda/envs/tf2.4/lib/python3.8/site-packages (from root-gnn==2.0.0) (3.3.4)\n",
      "Requirement already satisfied: sklearn in /global/cfs/cdirs/atlas/xju/conda/envs/tf2.4/lib/python3.8/site-packages (from root-gnn==2.0.0) (0.0)\n",
      "Requirement already satisfied: pyyaml>=5.1 in /global/cfs/cdirs/atlas/xju/conda/envs/tf2.4/lib/python3.8/site-packages (from root-gnn==2.0.0) (5.4.1)\n",
      "Requirement already satisfied: tqdm in /global/cfs/cdirs/atlas/xju/conda/envs/tf2.4/lib/python3.8/site-packages (from root-gnn==2.0.0) (4.56.0)\n",
      "Requirement already satisfied: absl-py in /global/cfs/cdirs/atlas/xju/conda/envs/tf2.4/lib/python3.8/site-packages (from graph_nets@ https://github.com/deepmind/graph_nets/tarball/master->root-gnn==2.0.0) (0.11.0)\n",
      "Requirement already satisfied: dm-sonnet in /global/cfs/cdirs/atlas/xju/conda/envs/tf2.4/lib/python3.8/site-packages (from graph_nets@ https://github.com/deepmind/graph_nets/tarball/master->root-gnn==2.0.0) (2.0.0)\n",
      "Requirement already satisfied: dm-tree in /global/cfs/cdirs/atlas/xju/conda/envs/tf2.4/lib/python3.8/site-packages (from graph_nets@ https://github.com/deepmind/graph_nets/tarball/master->root-gnn==2.0.0) (0.1.5)\n",
      "Requirement already satisfied: wrapt>=1.11.1 in /global/cfs/cdirs/atlas/xju/conda/envs/tf2.4/lib/python3.8/site-packages (from dm-sonnet->graph_nets@ https://github.com/deepmind/graph_nets/tarball/master->root-gnn==2.0.0) (1.12.1)\n",
      "Requirement already satisfied: tabulate>=0.7.5 in /global/cfs/cdirs/atlas/xju/conda/envs/tf2.4/lib/python3.8/site-packages (from dm-sonnet->graph_nets@ https://github.com/deepmind/graph_nets/tarball/master->root-gnn==2.0.0) (0.8.9)\n",
      "Requirement already satisfied: kiwisolver>=1.0.1 in /global/cfs/cdirs/atlas/xju/conda/envs/tf2.4/lib/python3.8/site-packages (from matplotlib->root-gnn==2.0.0) (1.3.1)\n",
      "Requirement already satisfied: pillow>=6.2.0 in /global/cfs/cdirs/atlas/xju/conda/envs/tf2.4/lib/python3.8/site-packages (from matplotlib->root-gnn==2.0.0) (8.1.0)\n",
      "Requirement already satisfied: pyparsing!=2.0.4,!=2.1.2,!=2.1.6,>=2.0.3 in /global/cfs/cdirs/atlas/xju/conda/envs/tf2.4/lib/python3.8/site-packages (from matplotlib->root-gnn==2.0.0) (2.4.7)\n",
      "Requirement already satisfied: python-dateutil>=2.1 in /global/cfs/cdirs/atlas/xju/conda/envs/tf2.4/lib/python3.8/site-packages (from matplotlib->root-gnn==2.0.0) (2.8.1)\n",
      "Requirement already satisfied: cycler>=0.10 in /global/cfs/cdirs/atlas/xju/conda/envs/tf2.4/lib/python3.8/site-packages (from matplotlib->root-gnn==2.0.0) (0.10.0)\n",
      "Requirement already satisfied: decorator<5,>=4.3 in /global/cfs/cdirs/atlas/xju/conda/envs/tf2.4/lib/python3.8/site-packages (from networkx->root-gnn==2.0.0) (4.4.2)\n",
      "Requirement already satisfied: pytz>=2017.3 in /global/cfs/cdirs/atlas/xju/conda/envs/tf2.4/lib/python3.8/site-packages (from pandas->root-gnn==2.0.0) (2021.1)\n",
      "Requirement already satisfied: scikit-learn in /global/cfs/cdirs/atlas/xju/conda/envs/tf2.4/lib/python3.8/site-packages (from sklearn->root-gnn==2.0.0) (0.24.1)\n",
      "Requirement already satisfied: joblib>=0.11 in /global/cfs/cdirs/atlas/xju/conda/envs/tf2.4/lib/python3.8/site-packages (from scikit-learn->sklearn->root-gnn==2.0.0) (1.0.0)\n",
      "Requirement already satisfied: threadpoolctl>=2.0.0 in /global/cfs/cdirs/atlas/xju/conda/envs/tf2.4/lib/python3.8/site-packages (from scikit-learn->sklearn->root-gnn==2.0.0) (2.1.0)\n",
      "Requirement already satisfied: numexpr>=2.6.2 in /global/u1/x/xju/.local/lib/python3.8/site-packages (from tables->root-gnn==2.0.0) (2.7.1)\n",
      "Building wheels for collected packages: root-gnn\n",
      "  Building wheel for root-gnn (setup.py) ... \u001b[?25ldone\n",
      "\u001b[?25h  Created wheel for root-gnn: filename=root_gnn-2.0.0-py3-none-any.whl size=136782 sha256=edf50f583c7e22dae3848616f885c5720afd255a5185b26663400cf63a5a5433\n",
      "  Stored in directory: /tmp/pip-ephem-wheel-cache-mjwnnzf3/wheels/24/c2/ad/75e66516ceff219f24d763f97a0928597e0f867e260d65aac5\n",
      "Successfully built root-gnn\n",
      "Installing collected packages: root-gnn\n",
      "  Attempting uninstall: root-gnn\n",
      "    Found existing installation: root-gnn 1.0.0\n",
      "    Uninstalling root-gnn-1.0.0:\n",
      "      Successfully uninstalled root-gnn-1.0.0\n",
      "Successfully installed root-gnn-2.0.0\n"
     ]
    }
   ],
   "source": [
    "!pip install git+https://github.com/xju2/root_gnn.git@release2.0"
   ]
  },
  {
   "cell_type": "markdown",
   "metadata": {},
   "source": [
    "### Creating graphs from networkx\n",
    "\n",
    "[networkx](https://networkx.org/documentation/stable/tutorial.html) is a Python package for the study of graphs.\n"
   ]
  },
  {
   "cell_type": "code",
   "execution_count": 32,
   "metadata": {},
   "outputs": [],
   "source": [
    "import matplotlib.pyplot as plt\n",
    "import numpy as np\n",
    "import pandas as pd\n",
    "import networkx as nx\n",
    "\n",
    "from graph_nets import utils_np\n",
    "from graph_nets import utils_tf\n",
    "from graph_nets import graphs as Graphs"
   ]
  },
  {
   "cell_type": "code",
   "execution_count": 3,
   "metadata": {},
   "outputs": [],
   "source": [
    "g = nx.DiGraph()\n",
    "\n",
    "# add nodes\n",
    "[g.add_node(idx, features=np.array([1.*idx])) for idx in range(4)];\n",
    "\n",
    "# add edges\n",
    "edge_lists = [(0, 1), (1, 2), (2, 3), (3, 0)]\n",
    "[g.add_edge(i, j, features=np.array([abs(i-j)])) for i,j in edge_lists];"
   ]
  },
  {
   "cell_type": "code",
   "execution_count": 4,
   "metadata": {},
   "outputs": [
    {
     "data": {
      "image/png": "[encoded data removed]",
      "text/plain": [
       "<Figure size 288x288 with 1 Axes>"
      ]
     },
     "metadata": {},
     "output_type": "display_data"
    }
   ],
   "source": [
    "plt.figure(figsize=(4, 4))\n",
    "pos = nx.spring_layout(g)\n",
    "nx.draw(g, pos, node_size=400, alpha=0.85, node_color=\"#1f78b4\", with_labels=True)"
   ]
  },
  {
   "cell_type": "markdown",
   "metadata": {},
   "source": [
    "obtain the adjacency matrix"
   ]
  },
  {
   "cell_type": "code",
   "execution_count": 5,
   "metadata": {},
   "outputs": [
    {
     "data": {
      "text/plain": [
       "array([[0., 1., 0., 0.],\n",
       "       [0., 0., 1., 0.],\n",
       "       [0., 0., 0., 1.],\n",
       "       [1., 0., 0., 0.]])"
      ]
     },
     "execution_count": 5,
     "metadata": {},
     "output_type": "execute_result"
    }
   ],
   "source": [
    "adj = np.asarray(nx.to_numpy_matrix(g))\n",
    "adj"
   ]
  },
  {
   "cell_type": "code",
   "execution_count": 6,
   "metadata": {},
   "outputs": [
    {
     "data": {
      "text/plain": [
       "OutEdgeView([(0, 1), (1, 2), (2, 3), (3, 0)])"
      ]
     },
     "execution_count": 6,
     "metadata": {},
     "output_type": "execute_result"
    }
   ],
   "source": [
    "g.edges()"
   ]
  },
  {
   "cell_type": "code",
   "execution_count": 7,
   "metadata": {},
   "outputs": [],
   "source": [
    "g_tuple = utils_np.networkxs_to_graphs_tuple([g])"
   ]
  },
  {
   "cell_type": "code",
   "execution_count": 8,
   "metadata": {},
   "outputs": [
    {
     "data": {
      "text/plain": [
       "GraphsTuple(nodes=array([[0.],\n",
       "       [1.],\n",
       "       [2.],\n",
       "       [3.]]), edges=array([[1],\n",
       "       [1],\n",
       "       [1],\n",
       "       [3]]), receivers=array([1, 2, 3, 0], dtype=int32), senders=array([0, 1, 2, 3], dtype=int32), globals=None, n_node=array([4], dtype=int32), n_edge=array([4], dtype=int32))"
      ]
     },
     "execution_count": 8,
     "metadata": {},
     "output_type": "execute_result"
    }
   ],
   "source": [
    "g_tuple"
   ]
  },
  {
   "cell_type": "code",
   "execution_count": 33,
   "metadata": {},
   "outputs": [],
   "source": [
    "def print_graphs_tuple(g, data=True):\n",
    "    for field_name in Graphs.ALL_FIELDS:\n",
    "        per_replica_sample = getattr(g, field_name)\n",
    "        if per_replica_sample is None:\n",
    "            print(field_name, \"EMPTY\")\n",
    "        else:\n",
    "            print(field_name, \"is with shape\", per_replica_sample.shape)\n",
    "            if data and  field_name != \"edges\":\n",
    "                print(per_replica_sample)"
   ]
  },
  {
   "cell_type": "code",
   "execution_count": 34,
   "metadata": {},
   "outputs": [
    {
     "name": "stdout",
     "output_type": "stream",
     "text": [
      "nodes is with shape (4, 1)\n",
      "[[0.]\n",
      " [1.]\n",
      " [2.]\n",
      " [3.]]\n",
      "edges is with shape (4, 1)\n",
      "receivers is with shape (4,)\n",
      "[1 2 3 0]\n",
      "senders is with shape (4,)\n",
      "[0 1 2 3]\n",
      "globals EMPTY\n",
      "n_node is with shape (1,)\n",
      "[4]\n",
      "n_edge is with shape (1,)\n",
      "[4]\n"
     ]
    }
   ],
   "source": [
    "print_graphs_tuple(g_tuple)"
   ]
  },
  {
   "cell_type": "markdown",
   "metadata": {},
   "source": [
    "### Create GraphsTuple using data-dict \\[recommend\\]"
   ]
  },
  {
   "cell_type": "code",
   "execution_count": 11,
   "metadata": {},
   "outputs": [],
   "source": [
    "n_node = 4\n",
    "n_node_features = 1\n",
    "n_edge = 4\n",
    "n_edge_features = 1\n",
    "nodes = np.random.rand(n_node, n_node_features).astype(np.float32)\n",
    "edges = np.random.rand(n_edge, n_edge_features).astype(np.float32)\n",
    "receivers = np.array([1, 2, 3, 0])\n",
    "senders = np.array([0, 1, 2, 3])\n",
    "datadict = {\n",
    "    \"n_node\": n_node,\n",
    "    \"n_edge\": n_edge,\n",
    "    \"nodes\": nodes,\n",
    "    \"edges\": edges,\n",
    "    \"senders\": senders,\n",
    "    \"receivers\": receivers,\n",
    "    \"globals\": np.array([0], dtype=np.float32)\n",
    "}"
   ]
  },
  {
   "cell_type": "code",
   "execution_count": 12,
   "metadata": {},
   "outputs": [],
   "source": [
    "g_tuple2 = utils_tf.data_dicts_to_graphs_tuple([datadict])"
   ]
  },
  {
   "cell_type": "code",
   "execution_count": 13,
   "metadata": {},
   "outputs": [
    {
     "name": "stdout",
     "output_type": "stream",
     "text": [
      "nodes is with shape (4, 1)\n",
      "tf.Tensor(\n",
      "[[0.23445006]\n",
      " [0.8710079 ]\n",
      " [0.03835069]\n",
      " [0.2980138 ]], shape=(4, 1), dtype=float32)\n",
      "edges is with shape (4, 1)\n",
      "receivers is with shape (4,)\n",
      "tf.Tensor([1 2 3 0], shape=(4,), dtype=int32)\n",
      "senders is with shape (4,)\n",
      "tf.Tensor([0 1 2 3], shape=(4,), dtype=int32)\n",
      "globals is with shape (1, 1)\n",
      "tf.Tensor([[0.]], shape=(1, 1), dtype=float32)\n",
      "n_node is with shape (1,)\n",
      "tf.Tensor([4], shape=(1,), dtype=int32)\n",
      "n_edge is with shape (1,)\n",
      "tf.Tensor([4], shape=(1,), dtype=int32)\n"
     ]
    }
   ],
   "source": [
    "print_graphs_tuple(g_tuple2)"
   ]
  },
  {
   "cell_type": "markdown",
   "metadata": {},
   "source": [
    "### Convert an event to a fully-connected graph"
   ]
  },
  {
   "cell_type": "code",
   "execution_count": 14,
   "metadata": {},
   "outputs": [],
   "source": [
    "filename = '/global/homes/x/xju/atlas/data/top-tagger/test.h5'"
   ]
  },
  {
   "cell_type": "code",
   "execution_count": 15,
   "metadata": {},
   "outputs": [],
   "source": [
    "with pd.HDFStore(filename, mode='r') as store:\n",
    "    df = store['table']"
   ]
  },
  {
   "cell_type": "code",
   "execution_count": 16,
   "metadata": {},
   "outputs": [
    {
     "data": {
      "text/html": [
       "<div>\n",
       "<style scoped>\n",
       "    .dataframe tbody tr th:only-of-type {\n",
       "        vertical-align: middle;\n",
       "    }\n",
       "\n",
       "    .dataframe tbody tr th {\n",
       "        vertical-align: top;\n",
       "    }\n",
       "\n",
       "    .dataframe thead th {\n",
       "        text-align: right;\n",
       "    }\n",
       "</style>\n",
       "<table border=\"1\" class=\"dataframe\">\n",
       "  <thead>\n",
       "    <tr style=\"text-align: right;\">\n",
       "      <th></th>\n",
       "      <th>E_0</th>\n",
       "      <th>PX_0</th>\n",
       "      <th>PY_0</th>\n",
       "      <th>PZ_0</th>\n",
       "      <th>E_1</th>\n",
       "      <th>PX_1</th>\n",
       "      <th>PY_1</th>\n",
       "      <th>PZ_1</th>\n",
       "      <th>E_2</th>\n",
       "      <th>PX_2</th>\n",
       "      <th>...</th>\n",
       "      <th>E_199</th>\n",
       "      <th>PX_199</th>\n",
       "      <th>PY_199</th>\n",
       "      <th>PZ_199</th>\n",
       "      <th>truthE</th>\n",
       "      <th>truthPX</th>\n",
       "      <th>truthPY</th>\n",
       "      <th>truthPZ</th>\n",
       "      <th>ttv</th>\n",
       "      <th>is_signal_new</th>\n",
       "    </tr>\n",
       "  </thead>\n",
       "  <tbody>\n",
       "    <tr>\n",
       "      <th>436</th>\n",
       "      <td>218.364243</td>\n",
       "      <td>-172.341858</td>\n",
       "      <td>110.129105</td>\n",
       "      <td>-76.503624</td>\n",
       "      <td>153.661118</td>\n",
       "      <td>-111.320465</td>\n",
       "      <td>93.167969</td>\n",
       "      <td>-50.390713</td>\n",
       "      <td>76.708054</td>\n",
       "      <td>-56.523701</td>\n",
       "      <td>...</td>\n",
       "      <td>0.0</td>\n",
       "      <td>0.0</td>\n",
       "      <td>0.0</td>\n",
       "      <td>0.0</td>\n",
       "      <td>0.0</td>\n",
       "      <td>0.0</td>\n",
       "      <td>0.0</td>\n",
       "      <td>0.0</td>\n",
       "      <td>1</td>\n",
       "      <td>0</td>\n",
       "    </tr>\n",
       "    <tr>\n",
       "      <th>440</th>\n",
       "      <td>122.238762</td>\n",
       "      <td>26.738468</td>\n",
       "      <td>-91.613998</td>\n",
       "      <td>76.382225</td>\n",
       "      <td>121.227135</td>\n",
       "      <td>17.644758</td>\n",
       "      <td>-93.015450</td>\n",
       "      <td>75.715302</td>\n",
       "      <td>90.420105</td>\n",
       "      <td>21.377417</td>\n",
       "      <td>...</td>\n",
       "      <td>0.0</td>\n",
       "      <td>0.0</td>\n",
       "      <td>0.0</td>\n",
       "      <td>0.0</td>\n",
       "      <td>0.0</td>\n",
       "      <td>0.0</td>\n",
       "      <td>0.0</td>\n",
       "      <td>0.0</td>\n",
       "      <td>1</td>\n",
       "      <td>0</td>\n",
       "    </tr>\n",
       "    <tr>\n",
       "      <th>441</th>\n",
       "      <td>383.772308</td>\n",
       "      <td>-97.906456</td>\n",
       "      <td>79.640709</td>\n",
       "      <td>-362.426361</td>\n",
       "      <td>200.625992</td>\n",
       "      <td>-54.921326</td>\n",
       "      <td>37.994343</td>\n",
       "      <td>-189.184753</td>\n",
       "      <td>123.247223</td>\n",
       "      <td>-33.828953</td>\n",
       "      <td>...</td>\n",
       "      <td>0.0</td>\n",
       "      <td>0.0</td>\n",
       "      <td>0.0</td>\n",
       "      <td>0.0</td>\n",
       "      <td>0.0</td>\n",
       "      <td>0.0</td>\n",
       "      <td>0.0</td>\n",
       "      <td>0.0</td>\n",
       "      <td>1</td>\n",
       "      <td>0</td>\n",
       "    </tr>\n",
       "    <tr>\n",
       "      <th>444</th>\n",
       "      <td>132.492752</td>\n",
       "      <td>-77.763947</td>\n",
       "      <td>-87.322601</td>\n",
       "      <td>-62.304600</td>\n",
       "      <td>83.946594</td>\n",
       "      <td>-49.450481</td>\n",
       "      <td>-53.823605</td>\n",
       "      <td>-41.288010</td>\n",
       "      <td>28.072624</td>\n",
       "      <td>-19.964916</td>\n",
       "      <td>...</td>\n",
       "      <td>0.0</td>\n",
       "      <td>0.0</td>\n",
       "      <td>0.0</td>\n",
       "      <td>0.0</td>\n",
       "      <td>0.0</td>\n",
       "      <td>0.0</td>\n",
       "      <td>0.0</td>\n",
       "      <td>0.0</td>\n",
       "      <td>1</td>\n",
       "      <td>0</td>\n",
       "    </tr>\n",
       "    <tr>\n",
       "      <th>445</th>\n",
       "      <td>730.786987</td>\n",
       "      <td>-209.120010</td>\n",
       "      <td>-193.454315</td>\n",
       "      <td>-672.973877</td>\n",
       "      <td>225.477325</td>\n",
       "      <td>-75.363350</td>\n",
       "      <td>-66.226990</td>\n",
       "      <td>-201.926651</td>\n",
       "      <td>217.040192</td>\n",
       "      <td>-63.698189</td>\n",
       "      <td>...</td>\n",
       "      <td>0.0</td>\n",
       "      <td>0.0</td>\n",
       "      <td>0.0</td>\n",
       "      <td>0.0</td>\n",
       "      <td>0.0</td>\n",
       "      <td>0.0</td>\n",
       "      <td>0.0</td>\n",
       "      <td>0.0</td>\n",
       "      <td>1</td>\n",
       "      <td>0</td>\n",
       "    </tr>\n",
       "  </tbody>\n",
       "</table>\n",
       "<p>5 rows × 806 columns</p>\n",
       "</div>"
      ],
      "text/plain": [
       "            E_0        PX_0        PY_0        PZ_0         E_1        PX_1  \\\n",
       "436  218.364243 -172.341858  110.129105  -76.503624  153.661118 -111.320465   \n",
       "440  122.238762   26.738468  -91.613998   76.382225  121.227135   17.644758   \n",
       "441  383.772308  -97.906456   79.640709 -362.426361  200.625992  -54.921326   \n",
       "444  132.492752  -77.763947  -87.322601  -62.304600   83.946594  -49.450481   \n",
       "445  730.786987 -209.120010 -193.454315 -672.973877  225.477325  -75.363350   \n",
       "\n",
       "          PY_1        PZ_1         E_2       PX_2  ...  E_199  PX_199  PY_199  \\\n",
       "436  93.167969  -50.390713   76.708054 -56.523701  ...    0.0     0.0     0.0   \n",
       "440 -93.015450   75.715302   90.420105  21.377417  ...    0.0     0.0     0.0   \n",
       "441  37.994343 -189.184753  123.247223 -33.828953  ...    0.0     0.0     0.0   \n",
       "444 -53.823605  -41.288010   28.072624 -19.964916  ...    0.0     0.0     0.0   \n",
       "445 -66.226990 -201.926651  217.040192 -63.698189  ...    0.0     0.0     0.0   \n",
       "\n",
       "     PZ_199  truthE  truthPX  truthPY  truthPZ  ttv  is_signal_new  \n",
       "436     0.0     0.0      0.0      0.0      0.0    1              0  \n",
       "440     0.0     0.0      0.0      0.0      0.0    1              0  \n",
       "441     0.0     0.0      0.0      0.0      0.0    1              0  \n",
       "444     0.0     0.0      0.0      0.0      0.0    1              0  \n",
       "445     0.0     0.0      0.0      0.0      0.0    1              0  \n",
       "\n",
       "[5 rows x 806 columns]"
      ]
     },
     "execution_count": 16,
     "metadata": {},
     "output_type": "execute_result"
    }
   ],
   "source": [
    "df.head()"
   ]
  },
  {
   "cell_type": "code",
   "execution_count": 17,
   "metadata": {},
   "outputs": [
    {
     "data": {
      "text/html": [
       "<div>\n",
       "<style scoped>\n",
       "    .dataframe tbody tr th:only-of-type {\n",
       "        vertical-align: middle;\n",
       "    }\n",
       "\n",
       "    .dataframe tbody tr th {\n",
       "        vertical-align: top;\n",
       "    }\n",
       "\n",
       "    .dataframe thead th {\n",
       "        text-align: right;\n",
       "    }\n",
       "</style>\n",
       "<table border=\"1\" class=\"dataframe\">\n",
       "  <thead>\n",
       "    <tr style=\"text-align: right;\">\n",
       "      <th></th>\n",
       "      <th>E_0</th>\n",
       "      <th>PX_0</th>\n",
       "      <th>PY_0</th>\n",
       "      <th>PZ_0</th>\n",
       "      <th>E_1</th>\n",
       "      <th>PX_1</th>\n",
       "      <th>PY_1</th>\n",
       "      <th>PZ_1</th>\n",
       "      <th>E_2</th>\n",
       "      <th>PX_2</th>\n",
       "      <th>...</th>\n",
       "      <th>E_199</th>\n",
       "      <th>PX_199</th>\n",
       "      <th>PY_199</th>\n",
       "      <th>PZ_199</th>\n",
       "      <th>truthE</th>\n",
       "      <th>truthPX</th>\n",
       "      <th>truthPY</th>\n",
       "      <th>truthPZ</th>\n",
       "      <th>ttv</th>\n",
       "      <th>is_signal_new</th>\n",
       "    </tr>\n",
       "  </thead>\n",
       "  <tbody>\n",
       "    <tr>\n",
       "      <th>275</th>\n",
       "      <td>65.646370</td>\n",
       "      <td>-58.526817</td>\n",
       "      <td>29.698223</td>\n",
       "      <td>-1.439855</td>\n",
       "      <td>64.047226</td>\n",
       "      <td>-36.257854</td>\n",
       "      <td>46.957092</td>\n",
       "      <td>24.133938</td>\n",
       "      <td>46.889977</td>\n",
       "      <td>-26.141216</td>\n",
       "      <td>...</td>\n",
       "      <td>0.0</td>\n",
       "      <td>0.0</td>\n",
       "      <td>0.0</td>\n",
       "      <td>0.0</td>\n",
       "      <td>609.978516</td>\n",
       "      <td>-425.223938</td>\n",
       "      <td>360.547333</td>\n",
       "      <td>179.307800</td>\n",
       "      <td>1</td>\n",
       "      <td>1</td>\n",
       "    </tr>\n",
       "    <tr>\n",
       "      <th>278</th>\n",
       "      <td>182.433838</td>\n",
       "      <td>-67.388512</td>\n",
       "      <td>-150.770279</td>\n",
       "      <td>77.519150</td>\n",
       "      <td>105.039909</td>\n",
       "      <td>-24.843391</td>\n",
       "      <td>-70.149010</td>\n",
       "      <td>74.130325</td>\n",
       "      <td>99.697556</td>\n",
       "      <td>-25.996574</td>\n",
       "      <td>...</td>\n",
       "      <td>0.0</td>\n",
       "      <td>0.0</td>\n",
       "      <td>0.0</td>\n",
       "      <td>0.0</td>\n",
       "      <td>761.416626</td>\n",
       "      <td>-368.340454</td>\n",
       "      <td>-444.232635</td>\n",
       "      <td>466.554565</td>\n",
       "      <td>1</td>\n",
       "      <td>1</td>\n",
       "    </tr>\n",
       "    <tr>\n",
       "      <th>285</th>\n",
       "      <td>218.015808</td>\n",
       "      <td>-142.368179</td>\n",
       "      <td>19.166389</td>\n",
       "      <td>-163.996475</td>\n",
       "      <td>151.196808</td>\n",
       "      <td>-75.772964</td>\n",
       "      <td>7.036884</td>\n",
       "      <td>-130.649979</td>\n",
       "      <td>64.975327</td>\n",
       "      <td>-49.838360</td>\n",
       "      <td>...</td>\n",
       "      <td>0.0</td>\n",
       "      <td>0.0</td>\n",
       "      <td>0.0</td>\n",
       "      <td>0.0</td>\n",
       "      <td>1055.739014</td>\n",
       "      <td>-647.505615</td>\n",
       "      <td>54.828110</td>\n",
       "      <td>-814.257935</td>\n",
       "      <td>1</td>\n",
       "      <td>1</td>\n",
       "    </tr>\n",
       "    <tr>\n",
       "      <th>302</th>\n",
       "      <td>116.801796</td>\n",
       "      <td>90.702217</td>\n",
       "      <td>-54.621929</td>\n",
       "      <td>49.317455</td>\n",
       "      <td>87.957840</td>\n",
       "      <td>44.834236</td>\n",
       "      <td>-44.274315</td>\n",
       "      <td>61.369846</td>\n",
       "      <td>66.443222</td>\n",
       "      <td>31.902834</td>\n",
       "      <td>...</td>\n",
       "      <td>0.0</td>\n",
       "      <td>0.0</td>\n",
       "      <td>0.0</td>\n",
       "      <td>0.0</td>\n",
       "      <td>669.998962</td>\n",
       "      <td>439.078888</td>\n",
       "      <td>-269.705780</td>\n",
       "      <td>392.723145</td>\n",
       "      <td>1</td>\n",
       "      <td>1</td>\n",
       "    </tr>\n",
       "    <tr>\n",
       "      <th>308</th>\n",
       "      <td>114.989540</td>\n",
       "      <td>-70.048080</td>\n",
       "      <td>-66.881485</td>\n",
       "      <td>-61.989738</td>\n",
       "      <td>74.398933</td>\n",
       "      <td>-57.145046</td>\n",
       "      <td>-44.540745</td>\n",
       "      <td>-16.904631</td>\n",
       "      <td>48.529976</td>\n",
       "      <td>-37.200237</td>\n",
       "      <td>...</td>\n",
       "      <td>0.0</td>\n",
       "      <td>0.0</td>\n",
       "      <td>0.0</td>\n",
       "      <td>0.0</td>\n",
       "      <td>803.532227</td>\n",
       "      <td>-520.018433</td>\n",
       "      <td>-429.099030</td>\n",
       "      <td>-403.125366</td>\n",
       "      <td>1</td>\n",
       "      <td>1</td>\n",
       "    </tr>\n",
       "  </tbody>\n",
       "</table>\n",
       "<p>5 rows × 806 columns</p>\n",
       "</div>"
      ],
      "text/plain": [
       "            E_0        PX_0        PY_0        PZ_0         E_1       PX_1  \\\n",
       "275   65.646370  -58.526817   29.698223   -1.439855   64.047226 -36.257854   \n",
       "278  182.433838  -67.388512 -150.770279   77.519150  105.039909 -24.843391   \n",
       "285  218.015808 -142.368179   19.166389 -163.996475  151.196808 -75.772964   \n",
       "302  116.801796   90.702217  -54.621929   49.317455   87.957840  44.834236   \n",
       "308  114.989540  -70.048080  -66.881485  -61.989738   74.398933 -57.145046   \n",
       "\n",
       "          PY_1        PZ_1        E_2       PX_2  ...  E_199  PX_199  PY_199  \\\n",
       "275  46.957092   24.133938  46.889977 -26.141216  ...    0.0     0.0     0.0   \n",
       "278 -70.149010   74.130325  99.697556 -25.996574  ...    0.0     0.0     0.0   \n",
       "285   7.036884 -130.649979  64.975327 -49.838360  ...    0.0     0.0     0.0   \n",
       "302 -44.274315   61.369846  66.443222  31.902834  ...    0.0     0.0     0.0   \n",
       "308 -44.540745  -16.904631  48.529976 -37.200237  ...    0.0     0.0     0.0   \n",
       "\n",
       "     PZ_199       truthE     truthPX     truthPY     truthPZ  ttv  \\\n",
       "275     0.0   609.978516 -425.223938  360.547333  179.307800    1   \n",
       "278     0.0   761.416626 -368.340454 -444.232635  466.554565    1   \n",
       "285     0.0  1055.739014 -647.505615   54.828110 -814.257935    1   \n",
       "302     0.0   669.998962  439.078888 -269.705780  392.723145    1   \n",
       "308     0.0   803.532227 -520.018433 -429.099030 -403.125366    1   \n",
       "\n",
       "     is_signal_new  \n",
       "275              1  \n",
       "278              1  \n",
       "285              1  \n",
       "302              1  \n",
       "308              1  \n",
       "\n",
       "[5 rows x 806 columns]"
      ]
     },
     "execution_count": 17,
     "metadata": {},
     "output_type": "execute_result"
    }
   ],
   "source": [
    "df[df['is_signal_new'] == 1].head()"
   ]
  },
  {
   "cell_type": "code",
   "execution_count": 18,
   "metadata": {},
   "outputs": [
    {
     "data": {
      "text/plain": [
       "E_0              218.364243\n",
       "PX_0            -172.341858\n",
       "PY_0             110.129105\n",
       "PZ_0             -76.503624\n",
       "E_1              153.661118\n",
       "                    ...    \n",
       "truthPX            0.000000\n",
       "truthPY            0.000000\n",
       "truthPZ            0.000000\n",
       "ttv                1.000000\n",
       "is_signal_new      0.000000\n",
       "Name: 436, Length: 806, dtype: float64"
      ]
     },
     "execution_count": 18,
     "metadata": {},
     "output_type": "execute_result"
    }
   ],
   "source": [
    "event = df.iloc[0]\n",
    "event"
   ]
  },
  {
   "cell_type": "code",
   "execution_count": 35,
   "metadata": {},
   "outputs": [],
   "source": [
    "import itertools\n",
    "from typing import Optional\n",
    "\n",
    "features = ['E', 'PX', 'PY', 'PZ']\n",
    "scale = 0.001\n",
    "solution = 'is_signal_new'\n",
    "\n",
    "def make_graph(event, debug: Optional[bool] = False):\n",
    "    n_max_nodes = 200\n",
    "    n_nodes = 0\n",
    "    nodes = []\n",
    "    for inode in range(n_max_nodes):\n",
    "        E_name = 'E_{}'.format(inode)\n",
    "        if event[E_name] < 0.1:\n",
    "            continue\n",
    "\n",
    "        f_keynames = ['{}_{}'.format(x, inode) for x in features]\n",
    "        n_nodes += 1\n",
    "        nodes.append(event[f_keynames].values*scale)\n",
    "    nodes = np.array(nodes, dtype=np.float32)\n",
    "\n",
    "    # to make a bi-directional fully connected graph\n",
    "    all_edges = list(itertools.combinations(range(n_nodes), 2))\n",
    "    senders = np.array([x[0] for x in all_edges])\n",
    "    receivers = np.array([x[1] for x in all_edges])\n",
    "    n_edges = len(all_edges)\n",
    "    edges = np.expand_dims(np.array([0.0]*n_edges, dtype=np.float32), axis=1)\n",
    "\n",
    "    input_datadict = {\n",
    "        \"n_node\": n_nodes,\n",
    "        \"n_edge\": n_edges,\n",
    "        \"nodes\": nodes,\n",
    "        \"edges\": edges,\n",
    "        \"senders\": senders,\n",
    "        \"receivers\": receivers,\n",
    "        \"globals\": np.array([n_nodes], dtype=np.float32)\n",
    "    }\n",
    "    target_datadict = {\n",
    "        \"n_node\": n_nodes,\n",
    "        \"n_edge\": n_edges,\n",
    "        \"nodes\": nodes,\n",
    "        \"edges\": edges,\n",
    "        \"senders\": senders,\n",
    "        \"receivers\": receivers,\n",
    "        \"globals\": np.array([event[solution]], dtype=np.float32)\n",
    "    }\n",
    "    input_graph = utils_tf.data_dicts_to_graphs_tuple([input_datadict])\n",
    "    target_graph = utils_tf.data_dicts_to_graphs_tuple([target_datadict])\n",
    "    return [(input_graph, target_graph)]"
   ]
  },
  {
   "cell_type": "code",
   "execution_count": 36,
   "metadata": {},
   "outputs": [],
   "source": [
    "graphs = make_graph(event)"
   ]
  },
  {
   "cell_type": "code",
   "execution_count": 37,
   "metadata": {},
   "outputs": [],
   "source": [
    "g_evt_input, g_evt_target = graphs[0]"
   ]
  },
  {
   "cell_type": "code",
   "execution_count": 38,
   "metadata": {},
   "outputs": [
    {
     "name": "stdout",
     "output_type": "stream",
     "text": [
      "nodes is with shape (17, 4)\n",
      "edges is with shape (136, 1)\n",
      "receivers is with shape (136,)\n",
      "senders is with shape (136,)\n",
      "globals is with shape (1, 1)\n",
      "n_node is with shape (1,)\n",
      "n_edge is with shape (1,)\n"
     ]
    }
   ],
   "source": [
    "print_graphs_tuple(g_evt_input, data=False)"
   ]
  },
  {
   "cell_type": "code",
   "execution_count": 39,
   "metadata": {},
   "outputs": [
    {
     "data": {
      "text/plain": [
       "136"
      ]
     },
     "execution_count": 39,
     "metadata": {},
     "output_type": "execute_result"
    }
   ],
   "source": [
    "17*16//2"
   ]
  },
  {
   "cell_type": "code",
   "execution_count": 40,
   "metadata": {},
   "outputs": [
    {
     "data": {
      "text/plain": [
       "<tf.Tensor: shape=(1, 1), dtype=float32, numpy=array([[0.]], dtype=float32)>"
      ]
     },
     "execution_count": 40,
     "metadata": {},
     "output_type": "execute_result"
    }
   ],
   "source": [
    "g_evt_target.globals"
   ]
  },
  {
   "cell_type": "markdown",
   "metadata": {},
   "source": [
    "Convert all events into graphs and save these graphs for training"
   ]
  },
  {
   "cell_type": "code",
   "execution_count": null,
   "metadata": {},
   "outputs": [],
   "source": [
    "def read(filename):\n",
    "    with pd.HDFStore(filename, mode='r') as store:\n",
    "        df = store['table']\n",
    "    \n",
    "    print(\"Total {:,} events in file {}\".format(df.shape[0], filename))\n",
    "    for ievt in range(df.shape[0]):\n",
    "        yield df.iloc[ievt]"
   ]
  },
  {
   "cell_type": "code",
   "execution_count": 42,
   "metadata": {},
   "outputs": [],
   "source": [
    "from root_gnn.src.datasets.base import DataSet"
   ]
  },
  {
   "cell_type": "code",
   "execution_count": 43,
   "metadata": {},
   "outputs": [],
   "source": [
    "class TopTaggerDataset(DataSet):\n",
    "    def __init__(self, *args, **kwargs):\n",
    "        super().__init__(*args, **kwargs)\n",
    "        self.read = read\n",
    "        self.make_graph = make_graph\n",
    "\n",
    "    def _num_evts(self, filename):\n",
    "        with pd.HDFStore(filename, mode='r') as store:\n",
    "            df = store['table']\n",
    "        return df.shape[0]"
   ]
  },
  {
   "cell_type": "code",
   "execution_count": 44,
   "metadata": {},
   "outputs": [],
   "source": [
    "data = TopTaggerDataset()"
   ]
  },
  {
   "cell_type": "code",
   "execution_count": 49,
   "metadata": {},
   "outputs": [],
   "source": [
    "tr_filename = '/global/homes/x/xju/atlas/data/top-tagger/train.h5'\n",
    "n_evts_per_record = 10\n",
    "debug = False\n",
    "max_evts = 50\n",
    "num_workers = 1\n",
    "overwrite = False"
   ]
  },
  {
   "cell_type": "code",
   "execution_count": 51,
   "metadata": {},
   "outputs": [
    {
     "name": "stdout",
     "output_type": "stream",
     "text": [
      "In total 50 events, write to 5 files with 1 workers\n",
      "1,211,000 Events\n"
     ]
    },
    {
     "ename": "KeyboardInterrupt",
     "evalue": "",
     "output_type": "error",
     "traceback": [
      "\u001b[0;31m---------------------------------------------------------------------------\u001b[0m",
      "\u001b[0;31mKeyboardInterrupt\u001b[0m                         Traceback (most recent call last)",
      "\u001b[0;32m<ipython-input-51-f698cef37b17>\u001b[0m in \u001b[0;36m<module>\u001b[0;34m\u001b[0m\n\u001b[0;32m----> 1\u001b[0;31m data.process(filename=tr_filename, outname=\"TopTagger/trainning\",\\\n\u001b[0m\u001b[1;32m      2\u001b[0m     \u001b[0mn_evts_per_record\u001b[0m\u001b[0;34m=\u001b[0m\u001b[0mn_evts_per_record\u001b[0m\u001b[0;34m,\u001b[0m \u001b[0mdebug\u001b[0m\u001b[0;34m=\u001b[0m\u001b[0mdebug\u001b[0m\u001b[0;34m,\u001b[0m\u001b[0;34m\u001b[0m\u001b[0;34m\u001b[0m\u001b[0m\n\u001b[1;32m      3\u001b[0m     max_evts=max_evts, num_workers=num_workers, overwrite=overwrite)\n",
      "\u001b[0;32m~/.conda/envs/tf2.4/lib/python3.8/site-packages/root_gnn/src/datasets/base.py\u001b[0m in \u001b[0;36mprocess\u001b[0;34m(self, filename, outname, n_evts_per_record, debug, max_evts, num_workers, overwrite, **kwargs)\u001b[0m\n\u001b[1;32m    117\u001b[0m                         \u001b[0moutname\u001b[0m\u001b[0;34m=\u001b[0m\u001b[0moutname\u001b[0m\u001b[0;34m,\u001b[0m\u001b[0;34m\u001b[0m\u001b[0;34m\u001b[0m\u001b[0m\n\u001b[1;32m    118\u001b[0m                         debug=debug)\n\u001b[0;32m--> 119\u001b[0;31m             \u001b[0mres\u001b[0m \u001b[0;34m=\u001b[0m \u001b[0mp\u001b[0m\u001b[0;34m.\u001b[0m\u001b[0mmap\u001b[0m\u001b[0;34m(\u001b[0m\u001b[0mprocess_fnc\u001b[0m\u001b[0;34m,\u001b[0m \u001b[0mlist\u001b[0m\u001b[0;34m(\u001b[0m\u001b[0mrange\u001b[0m\u001b[0;34m(\u001b[0m\u001b[0mn_files\u001b[0m\u001b[0;34m)\u001b[0m\u001b[0;34m)\u001b[0m\u001b[0;34m)\u001b[0m\u001b[0;34m\u001b[0m\u001b[0;34m\u001b[0m\u001b[0m\n\u001b[0m\u001b[1;32m    120\u001b[0m \u001b[0;34m\u001b[0m\u001b[0m\n\u001b[1;32m    121\u001b[0m         \u001b[0mifailed\u001b[0m \u001b[0;34m=\u001b[0m \u001b[0msum\u001b[0m\u001b[0;34m(\u001b[0m\u001b[0;34m[\u001b[0m\u001b[0mx\u001b[0m\u001b[0;34m[\u001b[0m\u001b[0;36m0\u001b[0m\u001b[0;34m]\u001b[0m \u001b[0;32mfor\u001b[0m \u001b[0mx\u001b[0m \u001b[0;32min\u001b[0m \u001b[0mres\u001b[0m\u001b[0;34m]\u001b[0m\u001b[0;34m)\u001b[0m\u001b[0;34m\u001b[0m\u001b[0;34m\u001b[0m\u001b[0m\n",
      "\u001b[0;32m~/.conda/envs/tf2.4/lib/python3.8/multiprocessing/pool.py\u001b[0m in \u001b[0;36mmap\u001b[0;34m(self, func, iterable, chunksize)\u001b[0m\n\u001b[1;32m    362\u001b[0m         \u001b[0;32min\u001b[0m \u001b[0ma\u001b[0m \u001b[0mlist\u001b[0m \u001b[0mthat\u001b[0m \u001b[0;32mis\u001b[0m \u001b[0mreturned\u001b[0m\u001b[0;34m.\u001b[0m\u001b[0;34m\u001b[0m\u001b[0;34m\u001b[0m\u001b[0m\n\u001b[1;32m    363\u001b[0m         '''\n\u001b[0;32m--> 364\u001b[0;31m         \u001b[0;32mreturn\u001b[0m \u001b[0mself\u001b[0m\u001b[0;34m.\u001b[0m\u001b[0m_map_async\u001b[0m\u001b[0;34m(\u001b[0m\u001b[0mfunc\u001b[0m\u001b[0;34m,\u001b[0m \u001b[0miterable\u001b[0m\u001b[0;34m,\u001b[0m \u001b[0mmapstar\u001b[0m\u001b[0;34m,\u001b[0m \u001b[0mchunksize\u001b[0m\u001b[0;34m)\u001b[0m\u001b[0;34m.\u001b[0m\u001b[0mget\u001b[0m\u001b[0;34m(\u001b[0m\u001b[0;34m)\u001b[0m\u001b[0;34m\u001b[0m\u001b[0;34m\u001b[0m\u001b[0m\n\u001b[0m\u001b[1;32m    365\u001b[0m \u001b[0;34m\u001b[0m\u001b[0m\n\u001b[1;32m    366\u001b[0m     \u001b[0;32mdef\u001b[0m \u001b[0mstarmap\u001b[0m\u001b[0;34m(\u001b[0m\u001b[0mself\u001b[0m\u001b[0;34m,\u001b[0m \u001b[0mfunc\u001b[0m\u001b[0;34m,\u001b[0m \u001b[0miterable\u001b[0m\u001b[0;34m,\u001b[0m \u001b[0mchunksize\u001b[0m\u001b[0;34m=\u001b[0m\u001b[0;32mNone\u001b[0m\u001b[0;34m)\u001b[0m\u001b[0;34m:\u001b[0m\u001b[0;34m\u001b[0m\u001b[0;34m\u001b[0m\u001b[0m\n",
      "\u001b[0;32m~/.conda/envs/tf2.4/lib/python3.8/multiprocessing/pool.py\u001b[0m in \u001b[0;36mget\u001b[0;34m(self, timeout)\u001b[0m\n\u001b[1;32m    763\u001b[0m \u001b[0;34m\u001b[0m\u001b[0m\n\u001b[1;32m    764\u001b[0m     \u001b[0;32mdef\u001b[0m \u001b[0mget\u001b[0m\u001b[0;34m(\u001b[0m\u001b[0mself\u001b[0m\u001b[0;34m,\u001b[0m \u001b[0mtimeout\u001b[0m\u001b[0;34m=\u001b[0m\u001b[0;32mNone\u001b[0m\u001b[0;34m)\u001b[0m\u001b[0;34m:\u001b[0m\u001b[0;34m\u001b[0m\u001b[0;34m\u001b[0m\u001b[0m\n\u001b[0;32m--> 765\u001b[0;31m         \u001b[0mself\u001b[0m\u001b[0;34m.\u001b[0m\u001b[0mwait\u001b[0m\u001b[0;34m(\u001b[0m\u001b[0mtimeout\u001b[0m\u001b[0;34m)\u001b[0m\u001b[0;34m\u001b[0m\u001b[0;34m\u001b[0m\u001b[0m\n\u001b[0m\u001b[1;32m    766\u001b[0m         \u001b[0;32mif\u001b[0m \u001b[0;32mnot\u001b[0m \u001b[0mself\u001b[0m\u001b[0;34m.\u001b[0m\u001b[0mready\u001b[0m\u001b[0;34m(\u001b[0m\u001b[0;34m)\u001b[0m\u001b[0;34m:\u001b[0m\u001b[0;34m\u001b[0m\u001b[0;34m\u001b[0m\u001b[0m\n\u001b[1;32m    767\u001b[0m             \u001b[0;32mraise\u001b[0m \u001b[0mTimeoutError\u001b[0m\u001b[0;34m\u001b[0m\u001b[0;34m\u001b[0m\u001b[0m\n",
      "\u001b[0;32m~/.conda/envs/tf2.4/lib/python3.8/multiprocessing/pool.py\u001b[0m in \u001b[0;36mwait\u001b[0;34m(self, timeout)\u001b[0m\n\u001b[1;32m    760\u001b[0m \u001b[0;34m\u001b[0m\u001b[0m\n\u001b[1;32m    761\u001b[0m     \u001b[0;32mdef\u001b[0m \u001b[0mwait\u001b[0m\u001b[0;34m(\u001b[0m\u001b[0mself\u001b[0m\u001b[0;34m,\u001b[0m \u001b[0mtimeout\u001b[0m\u001b[0;34m=\u001b[0m\u001b[0;32mNone\u001b[0m\u001b[0;34m)\u001b[0m\u001b[0;34m:\u001b[0m\u001b[0;34m\u001b[0m\u001b[0;34m\u001b[0m\u001b[0m\n\u001b[0;32m--> 762\u001b[0;31m         \u001b[0mself\u001b[0m\u001b[0;34m.\u001b[0m\u001b[0m_event\u001b[0m\u001b[0;34m.\u001b[0m\u001b[0mwait\u001b[0m\u001b[0;34m(\u001b[0m\u001b[0mtimeout\u001b[0m\u001b[0;34m)\u001b[0m\u001b[0;34m\u001b[0m\u001b[0;34m\u001b[0m\u001b[0m\n\u001b[0m\u001b[1;32m    763\u001b[0m \u001b[0;34m\u001b[0m\u001b[0m\n\u001b[1;32m    764\u001b[0m     \u001b[0;32mdef\u001b[0m \u001b[0mget\u001b[0m\u001b[0;34m(\u001b[0m\u001b[0mself\u001b[0m\u001b[0;34m,\u001b[0m \u001b[0mtimeout\u001b[0m\u001b[0;34m=\u001b[0m\u001b[0;32mNone\u001b[0m\u001b[0;34m)\u001b[0m\u001b[0;34m:\u001b[0m\u001b[0;34m\u001b[0m\u001b[0;34m\u001b[0m\u001b[0m\n",
      "\u001b[0;32m~/.conda/envs/tf2.4/lib/python3.8/threading.py\u001b[0m in \u001b[0;36mwait\u001b[0;34m(self, timeout)\u001b[0m\n\u001b[1;32m    556\u001b[0m             \u001b[0msignaled\u001b[0m \u001b[0;34m=\u001b[0m \u001b[0mself\u001b[0m\u001b[0;34m.\u001b[0m\u001b[0m_flag\u001b[0m\u001b[0;34m\u001b[0m\u001b[0;34m\u001b[0m\u001b[0m\n\u001b[1;32m    557\u001b[0m             \u001b[0;32mif\u001b[0m \u001b[0;32mnot\u001b[0m \u001b[0msignaled\u001b[0m\u001b[0;34m:\u001b[0m\u001b[0;34m\u001b[0m\u001b[0;34m\u001b[0m\u001b[0m\n\u001b[0;32m--> 558\u001b[0;31m                 \u001b[0msignaled\u001b[0m \u001b[0;34m=\u001b[0m \u001b[0mself\u001b[0m\u001b[0;34m.\u001b[0m\u001b[0m_cond\u001b[0m\u001b[0;34m.\u001b[0m\u001b[0mwait\u001b[0m\u001b[0;34m(\u001b[0m\u001b[0mtimeout\u001b[0m\u001b[0;34m)\u001b[0m\u001b[0;34m\u001b[0m\u001b[0;34m\u001b[0m\u001b[0m\n\u001b[0m\u001b[1;32m    559\u001b[0m             \u001b[0;32mreturn\u001b[0m \u001b[0msignaled\u001b[0m\u001b[0;34m\u001b[0m\u001b[0;34m\u001b[0m\u001b[0m\n\u001b[1;32m    560\u001b[0m \u001b[0;34m\u001b[0m\u001b[0m\n",
      "\u001b[0;32m~/.conda/envs/tf2.4/lib/python3.8/threading.py\u001b[0m in \u001b[0;36mwait\u001b[0;34m(self, timeout)\u001b[0m\n\u001b[1;32m    300\u001b[0m         \u001b[0;32mtry\u001b[0m\u001b[0;34m:\u001b[0m    \u001b[0;31m# restore state no matter what (e.g., KeyboardInterrupt)\u001b[0m\u001b[0;34m\u001b[0m\u001b[0;34m\u001b[0m\u001b[0m\n\u001b[1;32m    301\u001b[0m             \u001b[0;32mif\u001b[0m \u001b[0mtimeout\u001b[0m \u001b[0;32mis\u001b[0m \u001b[0;32mNone\u001b[0m\u001b[0;34m:\u001b[0m\u001b[0;34m\u001b[0m\u001b[0;34m\u001b[0m\u001b[0m\n\u001b[0;32m--> 302\u001b[0;31m                 \u001b[0mwaiter\u001b[0m\u001b[0;34m.\u001b[0m\u001b[0macquire\u001b[0m\u001b[0;34m(\u001b[0m\u001b[0;34m)\u001b[0m\u001b[0;34m\u001b[0m\u001b[0;34m\u001b[0m\u001b[0m\n\u001b[0m\u001b[1;32m    303\u001b[0m                 \u001b[0mgotit\u001b[0m \u001b[0;34m=\u001b[0m \u001b[0;32mTrue\u001b[0m\u001b[0;34m\u001b[0m\u001b[0;34m\u001b[0m\u001b[0m\n\u001b[1;32m    304\u001b[0m             \u001b[0;32melse\u001b[0m\u001b[0;34m:\u001b[0m\u001b[0;34m\u001b[0m\u001b[0;34m\u001b[0m\u001b[0m\n",
      "\u001b[0;31mKeyboardInterrupt\u001b[0m: "
     ]
    }
   ],
   "source": [
    "data.process(filename=tr_filename, outname=\"TopTagger/trainning\",\\\n",
    "    n_evts_per_record=n_evts_per_record, debug=debug,\n",
    "    max_evts=max_evts, num_workers=num_workers, overwrite=overwrite)"
   ]
  },
  {
   "cell_type": "markdown",
   "metadata": {},
   "source": [
    "### 3. Training GNN"
   ]
  },
  {
   "cell_type": "code",
   "execution_count": null,
   "metadata": {},
   "outputs": [],
   "source": [
    "from root_gnn import model as all_models\n",
    "import sonnet as snt\n",
    "from root_gnn import losses"
   ]
  },
  {
   "cell_type": "code",
   "execution_count": null,
   "metadata": {},
   "outputs": [],
   "source": [
    "model = all_models.GlobalClassifierNoEdgeInfo()"
   ]
  },
  {
   "cell_type": "code",
   "execution_count": null,
   "metadata": {},
   "outputs": [],
   "source": [
    "num_processing_steps_tr = 10\n",
    "outputs_tr = model(g_evt_input, num_processing_steps_tr)"
   ]
  },
  {
   "cell_type": "code",
   "execution_count": null,
   "metadata": {},
   "outputs": [],
   "source": [
    "outputs_tr[-1].globals"
   ]
  },
  {
   "cell_type": "code",
   "execution_count": null,
   "metadata": {},
   "outputs": [],
   "source": [
    "g_evt_target.globals"
   ]
  },
  {
   "cell_type": "code",
   "execution_count": null,
   "metadata": {},
   "outputs": [],
   "source": [
    "loss_fcn = losses.GlobalLoss(real_global_weight=1., fake_global_weight=1.)"
   ]
  },
  {
   "cell_type": "code",
   "execution_count": null,
   "metadata": {},
   "outputs": [],
   "source": [
    "loss_fcn(g_evt_target, outputs_tr)"
   ]
  },
  {
   "cell_type": "code",
   "execution_count": null,
   "metadata": {},
   "outputs": [],
   "source": [
    "learning_rate = 0.0005\n",
    "optimizer = snt.optimizers.Adam(learning_rate)"
   ]
  },
  {
   "cell_type": "markdown",
   "metadata": {},
   "source": [
    "```python\n",
    "@functools.partial(tf.function, input_signature=input_signature)\n",
    "def update_step(inputs_tr, targets_tr):\n",
    "    print(\"Tracing update_step\")\n",
    "    with tf.GradientTape() as tape:\n",
    "        outputs_tr = model(inputs_tr, num_processing_steps_tr)\n",
    "        loss_ops_tr = loss_fcn(targets_tr, outputs_tr)\n",
    "        loss_op_tr = tf.math.reduce_sum(loss_ops_tr) / tf.constant(num_processing_steps_tr, dtype=tf.float32)\n",
    "\n",
    "    gradients = tape.gradient(loss_op_tr, model.trainable_variables)\n",
    "    optimizer.apply(gradients, model.trainable_variables)\n",
    "    return outputs_tr, loss_op_tr\n",
    "```"
   ]
  },
  {
   "cell_type": "markdown",
   "metadata": {},
   "source": [
    "### 4. Evaluating GNN"
   ]
  },
  {
   "cell_type": "code",
   "execution_count": null,
   "metadata": {},
   "outputs": [],
   "source": []
  }
 ],
 "metadata": {
  "kernelspec": {
   "display_name": "a-TF2.4",
   "language": "python",
   "name": "tf2p4"
  },
  "language_info": {
   "codemirror_mode": {
    "name": "ipython",
    "version": 3
   },
   "file_extension": ".py",
   "mimetype": "text/x-python",
   "name": "python",
   "nbconvert_exporter": "python",
   "pygments_lexer": "ipython3",
   "version": "3.8.5"
  }
 },
 "nbformat": 4,
 "nbformat_minor": 4
}
