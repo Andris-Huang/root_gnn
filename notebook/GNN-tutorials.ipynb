{
 "cells": [
  {
   "cell_type": "code",
   "execution_count": 72,
   "metadata": {},
   "outputs": [
    {
     "name": "stdout",
     "output_type": "stream",
     "text": [
      "/global/cfs/cdirs/atlas/xju/share/Tutorials\n"
     ]
    }
   ],
   "source": [
    "!pwd"
   ]
  },
  {
   "cell_type": "markdown",
   "metadata": {},
   "source": [
    "## Setup python Environment\n",
    "\n",
    "1) create an isolated python environment namely `tutorial` via [conda](https://conda.io/projects/conda/en/latest/user-guide/tasks/manage-environments.html#creating-an-environment-with-commands). \n",
    "\n",
    "\\[Optional\\] Create a configuration file for `conda`: `~/.condarc`, \n",
    "and specify the location of envrionments that will house python modules. \n",
    "This directory will grow very quickly. I suggest to use a project directory.\n",
    "```json\n",
    "envs_dirs:\n",
    "  - /global/cfs/cdirs/atlas/xju/conda/envs\n",
    "report_errors: true\n",
    "```\n",
    "\n",
    "1.1) Following commands is to install an environment named `tutorial`. \n",
    "```bash\n",
    "module load python\n",
    "conda create -n tutorial python=3.8 ipykernel\n",
    "source $(which conda | sed -e s#bin/conda#bin/activate#)  tutorial\n",
    "python -m ipykernel install --user --name tutorial --display-name a-Tutorial\n",
    "```\n",
    "\n",
    "It will install a kernel file at `~/.local/share/jupyter/kernels/tutorial/kernel.json`. \n",
    "\n",
    "1.2) create a `~/.local/share/jupyter/kernels/tutorial/setup.sh` with the following contents:\n",
    "```bash\n",
    "#!/bin/bash\n",
    "module load python\n",
    "source $(which conda | sed -e s#bin/conda#bin/activate#)  tutorial\n",
    "python -m ipykernel_launcher $@\n",
    "```\n",
    "and make it executable `chmod +x ~/.local/share/jupyter/kernels/tutorial/setup.sh`.\n",
    "\n",
    "Get absolute path: `readlink -f ~/.local/share/jupyter/kernels/tutorial/setup.sh`.\n",
    "\n",
    "1.3) update the `~/.local/share/jupyter/kernels/tutorial/kernel.json` as the following. \n",
    "Note that the path to `setup.sh` should be the absolute path.\n",
    "```json\n",
    "{\n",
    " \"argv\": [\n",
    "  \"/global/u1/x/xju/.local/share/jupyter/kernels/tutorial/setup.sh\",\n",
    "  \"-f\",\n",
    "  \"{connection_file}\"\n",
    " ],\n",
    " \"display_name\": \"a-Tutorial\",\n",
    " \"language\": \"python\"\n",
    "}\n",
    "```"
   ]
  },
  {
   "cell_type": "code",
   "execution_count": 1,
   "metadata": {},
   "outputs": [
    {
     "name": "stdout",
     "output_type": "stream",
     "text": [
      "/global/homes/x/xju/.conda/envs/tutorial/bin/python\n"
     ]
    }
   ],
   "source": [
    "!which python"
   ]
  },
  {
   "cell_type": "code",
   "execution_count": 2,
   "metadata": {},
   "outputs": [
    {
     "name": "stdout",
     "output_type": "stream",
     "text": [
      "/global/homes/x/xju/.conda/envs/tutorial/bin/pip\n"
     ]
    }
   ],
   "source": [
    "!which pip"
   ]
  },
  {
   "cell_type": "code",
   "execution_count": 3,
   "metadata": {
    "collapsed": true,
    "jupyter": {
     "outputs_hidden": true
    }
   },
   "outputs": [
    {
     "name": "stdout",
     "output_type": "stream",
     "text": [
      "Requirement already satisfied: tensorflow in /global/cfs/cdirs/atlas/xju/conda/envs/tutorial/lib/python3.8/site-packages (2.4.0)\n",
      "Requirement already satisfied: wrapt~=1.12.1 in /global/cfs/cdirs/atlas/xju/conda/envs/tutorial/lib/python3.8/site-packages (from tensorflow) (1.12.1)\n",
      "Requirement already satisfied: absl-py~=0.10 in /global/cfs/cdirs/atlas/xju/conda/envs/tutorial/lib/python3.8/site-packages (from tensorflow) (0.11.0)\n",
      "Requirement already satisfied: gast==0.3.3 in /global/cfs/cdirs/atlas/xju/conda/envs/tutorial/lib/python3.8/site-packages (from tensorflow) (0.3.3)\n",
      "Requirement already satisfied: h5py~=2.10.0 in /global/cfs/cdirs/atlas/xju/conda/envs/tutorial/lib/python3.8/site-packages (from tensorflow) (2.10.0)\n",
      "Requirement already satisfied: six~=1.15.0 in /global/cfs/cdirs/atlas/xju/conda/envs/tutorial/lib/python3.8/site-packages (from tensorflow) (1.15.0)\n",
      "Requirement already satisfied: grpcio~=1.32.0 in /global/cfs/cdirs/atlas/xju/conda/envs/tutorial/lib/python3.8/site-packages (from tensorflow) (1.32.0)\n",
      "Requirement already satisfied: typing-extensions~=3.7.4 in /global/cfs/cdirs/atlas/xju/conda/envs/tutorial/lib/python3.8/site-packages (from tensorflow) (3.7.4.3)\n",
      "Requirement already satisfied: tensorflow-estimator<2.5.0,>=2.4.0rc0 in /global/cfs/cdirs/atlas/xju/conda/envs/tutorial/lib/python3.8/site-packages (from tensorflow) (2.4.0)\n",
      "Requirement already satisfied: numpy~=1.19.2 in /global/cfs/cdirs/atlas/xju/conda/envs/tutorial/lib/python3.8/site-packages (from tensorflow) (1.19.5)\n",
      "Requirement already satisfied: flatbuffers~=1.12.0 in /global/cfs/cdirs/atlas/xju/conda/envs/tutorial/lib/python3.8/site-packages (from tensorflow) (1.12)\n",
      "Requirement already satisfied: tensorboard~=2.4 in /global/cfs/cdirs/atlas/xju/conda/envs/tutorial/lib/python3.8/site-packages (from tensorflow) (2.4.1)\n",
      "Requirement already satisfied: keras-preprocessing~=1.1.2 in /global/cfs/cdirs/atlas/xju/conda/envs/tutorial/lib/python3.8/site-packages (from tensorflow) (1.1.2)\n",
      "Requirement already satisfied: google-pasta~=0.2 in /global/cfs/cdirs/atlas/xju/conda/envs/tutorial/lib/python3.8/site-packages (from tensorflow) (0.2.0)\n",
      "Requirement already satisfied: protobuf>=3.9.2 in /global/cfs/cdirs/atlas/xju/conda/envs/tutorial/lib/python3.8/site-packages (from tensorflow) (3.14.0)\n",
      "Requirement already satisfied: termcolor~=1.1.0 in /global/cfs/cdirs/atlas/xju/conda/envs/tutorial/lib/python3.8/site-packages (from tensorflow) (1.1.0)\n",
      "Requirement already satisfied: opt-einsum~=3.3.0 in /global/cfs/cdirs/atlas/xju/conda/envs/tutorial/lib/python3.8/site-packages (from tensorflow) (3.3.0)\n",
      "Requirement already satisfied: astunparse~=1.6.3 in /global/cfs/cdirs/atlas/xju/conda/envs/tutorial/lib/python3.8/site-packages (from tensorflow) (1.6.3)\n",
      "Requirement already satisfied: wheel~=0.35 in /global/cfs/cdirs/atlas/xju/conda/envs/tutorial/lib/python3.8/site-packages (from tensorflow) (0.36.2)\n",
      "Requirement already satisfied: tensorboard-plugin-wit>=1.6.0 in /global/cfs/cdirs/atlas/xju/conda/envs/tutorial/lib/python3.8/site-packages (from tensorboard~=2.4->tensorflow) (1.7.0)\n",
      "Requirement already satisfied: requests<3,>=2.21.0 in /global/cfs/cdirs/atlas/xju/conda/envs/tutorial/lib/python3.8/site-packages (from tensorboard~=2.4->tensorflow) (2.25.1)\n",
      "Requirement already satisfied: werkzeug>=0.11.15 in /global/cfs/cdirs/atlas/xju/conda/envs/tutorial/lib/python3.8/site-packages (from tensorboard~=2.4->tensorflow) (1.0.1)\n",
      "Requirement already satisfied: google-auth-oauthlib<0.5,>=0.4.1 in /global/cfs/cdirs/atlas/xju/conda/envs/tutorial/lib/python3.8/site-packages (from tensorboard~=2.4->tensorflow) (0.4.2)\n",
      "Requirement already satisfied: markdown>=2.6.8 in /global/cfs/cdirs/atlas/xju/conda/envs/tutorial/lib/python3.8/site-packages (from tensorboard~=2.4->tensorflow) (3.3.3)\n",
      "Requirement already satisfied: google-auth<2,>=1.6.3 in /global/cfs/cdirs/atlas/xju/conda/envs/tutorial/lib/python3.8/site-packages (from tensorboard~=2.4->tensorflow) (1.24.0)\n",
      "Requirement already satisfied: setuptools>=41.0.0 in /global/cfs/cdirs/atlas/xju/conda/envs/tutorial/lib/python3.8/site-packages (from tensorboard~=2.4->tensorflow) (51.1.2.post20210112)\n",
      "Requirement already satisfied: pyasn1-modules>=0.2.1 in /global/cfs/cdirs/atlas/xju/conda/envs/tutorial/lib/python3.8/site-packages (from google-auth<2,>=1.6.3->tensorboard~=2.4->tensorflow) (0.2.8)\n",
      "Requirement already satisfied: cachetools<5.0,>=2.0.0 in /global/cfs/cdirs/atlas/xju/conda/envs/tutorial/lib/python3.8/site-packages (from google-auth<2,>=1.6.3->tensorboard~=2.4->tensorflow) (4.2.0)\n",
      "Requirement already satisfied: rsa<5,>=3.1.4 in /global/cfs/cdirs/atlas/xju/conda/envs/tutorial/lib/python3.8/site-packages (from google-auth<2,>=1.6.3->tensorboard~=2.4->tensorflow) (4.7)\n",
      "Requirement already satisfied: requests-oauthlib>=0.7.0 in /global/cfs/cdirs/atlas/xju/conda/envs/tutorial/lib/python3.8/site-packages (from google-auth-oauthlib<0.5,>=0.4.1->tensorboard~=2.4->tensorflow) (1.3.0)\n",
      "Requirement already satisfied: pyasn1<0.5.0,>=0.4.6 in /global/cfs/cdirs/atlas/xju/conda/envs/tutorial/lib/python3.8/site-packages (from pyasn1-modules>=0.2.1->google-auth<2,>=1.6.3->tensorboard~=2.4->tensorflow) (0.4.8)\n",
      "Requirement already satisfied: certifi>=2017.4.17 in /global/cfs/cdirs/atlas/xju/conda/envs/tutorial/lib/python3.8/site-packages (from requests<3,>=2.21.0->tensorboard~=2.4->tensorflow) (2020.12.5)\n",
      "Requirement already satisfied: urllib3<1.27,>=1.21.1 in /global/cfs/cdirs/atlas/xju/conda/envs/tutorial/lib/python3.8/site-packages (from requests<3,>=2.21.0->tensorboard~=2.4->tensorflow) (1.26.2)\n",
      "Requirement already satisfied: idna<3,>=2.5 in /global/cfs/cdirs/atlas/xju/conda/envs/tutorial/lib/python3.8/site-packages (from requests<3,>=2.21.0->tensorboard~=2.4->tensorflow) (2.10)\n",
      "Requirement already satisfied: chardet<5,>=3.0.2 in /global/cfs/cdirs/atlas/xju/conda/envs/tutorial/lib/python3.8/site-packages (from requests<3,>=2.21.0->tensorboard~=2.4->tensorflow) (4.0.0)\n",
      "Requirement already satisfied: oauthlib>=3.0.0 in /global/cfs/cdirs/atlas/xju/conda/envs/tutorial/lib/python3.8/site-packages (from requests-oauthlib>=0.7.0->google-auth-oauthlib<0.5,>=0.4.1->tensorboard~=2.4->tensorflow) (3.1.0)\n"
     ]
    }
   ],
   "source": [
    "!pip install tensorflow"
   ]
  },
  {
   "cell_type": "markdown",
   "metadata": {},
   "source": [
    "Install the python package [root_gnn](https://github.com/xju2/root_gnn/tree/tf2) using the branch `tf2` therein. "
   ]
  },
  {
   "cell_type": "code",
   "execution_count": 21,
   "metadata": {
    "collapsed": true,
    "jupyter": {
     "outputs_hidden": true
    }
   },
   "outputs": [
    {
     "name": "stdout",
     "output_type": "stream",
     "text": [
      "Collecting git+https://github.com/xju2/root_gnn.git@tf2\n",
      "  Cloning https://github.com/xju2/root_gnn.git (to revision tf2) to /tmp/pip-req-build-lgd39_97\n",
      "Requirement already satisfied: graph_nets>=1.1 in /global/cfs/cdirs/atlas/xju/conda/envs/tutorial/lib/python3.8/site-packages (from root-gnn==1.0.0) (1.1.0)\n",
      "Requirement already satisfied: future in /global/cfs/cdirs/atlas/xju/conda/envs/tutorial/lib/python3.8/site-packages (from root-gnn==1.0.0) (0.18.2)\n",
      "Requirement already satisfied: networkx in /global/cfs/cdirs/atlas/xju/conda/envs/tutorial/lib/python3.8/site-packages (from root-gnn==1.0.0) (2.5)\n",
      "Requirement already satisfied: numpy in /global/cfs/cdirs/atlas/xju/conda/envs/tutorial/lib/python3.8/site-packages (from root-gnn==1.0.0) (1.19.5)\n",
      "Requirement already satisfied: scipy in /global/cfs/cdirs/atlas/xju/conda/envs/tutorial/lib/python3.8/site-packages (from root-gnn==1.0.0) (1.6.0)\n",
      "Requirement already satisfied: pandas in /global/cfs/cdirs/atlas/xju/conda/envs/tutorial/lib/python3.8/site-packages (from root-gnn==1.0.0) (1.2.0)\n",
      "Requirement already satisfied: setuptools in /global/cfs/cdirs/atlas/xju/conda/envs/tutorial/lib/python3.8/site-packages (from root-gnn==1.0.0) (51.1.2.post20210112)\n",
      "Requirement already satisfied: six in /global/cfs/cdirs/atlas/xju/conda/envs/tutorial/lib/python3.8/site-packages (from root-gnn==1.0.0) (1.15.0)\n",
      "Requirement already satisfied: matplotlib in /global/cfs/cdirs/atlas/xju/conda/envs/tutorial/lib/python3.8/site-packages (from root-gnn==1.0.0) (3.3.3)\n",
      "Requirement already satisfied: sklearn in /global/cfs/cdirs/atlas/xju/conda/envs/tutorial/lib/python3.8/site-packages (from root-gnn==1.0.0) (0.0)\n",
      "Requirement already satisfied: pyyaml>=5.1 in /global/cfs/cdirs/atlas/xju/conda/envs/tutorial/lib/python3.8/site-packages (from root-gnn==1.0.0) (5.3.1)\n",
      "Requirement already satisfied: absl-py in /global/cfs/cdirs/atlas/xju/conda/envs/tutorial/lib/python3.8/site-packages (from graph_nets>=1.1->root-gnn==1.0.0) (0.11.0)\n",
      "Requirement already satisfied: dm-tree in /global/cfs/cdirs/atlas/xju/conda/envs/tutorial/lib/python3.8/site-packages (from graph_nets>=1.1->root-gnn==1.0.0) (0.1.5)\n",
      "Requirement already satisfied: dm-sonnet in /global/cfs/cdirs/atlas/xju/conda/envs/tutorial/lib/python3.8/site-packages (from graph_nets>=1.1->root-gnn==1.0.0) (2.0.0)\n",
      "Requirement already satisfied: tabulate>=0.7.5 in /global/cfs/cdirs/atlas/xju/conda/envs/tutorial/lib/python3.8/site-packages (from dm-sonnet->graph_nets>=1.1->root-gnn==1.0.0) (0.8.7)\n",
      "Requirement already satisfied: wrapt>=1.11.1 in /global/cfs/cdirs/atlas/xju/conda/envs/tutorial/lib/python3.8/site-packages (from dm-sonnet->graph_nets>=1.1->root-gnn==1.0.0) (1.12.1)\n",
      "Requirement already satisfied: pillow>=6.2.0 in /global/cfs/cdirs/atlas/xju/conda/envs/tutorial/lib/python3.8/site-packages (from matplotlib->root-gnn==1.0.0) (8.1.0)\n",
      "Requirement already satisfied: kiwisolver>=1.0.1 in /global/cfs/cdirs/atlas/xju/conda/envs/tutorial/lib/python3.8/site-packages (from matplotlib->root-gnn==1.0.0) (1.3.1)\n",
      "Requirement already satisfied: python-dateutil>=2.1 in /global/cfs/cdirs/atlas/xju/conda/envs/tutorial/lib/python3.8/site-packages (from matplotlib->root-gnn==1.0.0) (2.8.1)\n",
      "Requirement already satisfied: cycler>=0.10 in /global/cfs/cdirs/atlas/xju/conda/envs/tutorial/lib/python3.8/site-packages (from matplotlib->root-gnn==1.0.0) (0.10.0)\n",
      "Requirement already satisfied: pyparsing!=2.0.4,!=2.1.2,!=2.1.6,>=2.0.3 in /global/cfs/cdirs/atlas/xju/conda/envs/tutorial/lib/python3.8/site-packages (from matplotlib->root-gnn==1.0.0) (2.4.7)\n",
      "Requirement already satisfied: decorator>=4.3.0 in /global/cfs/cdirs/atlas/xju/conda/envs/tutorial/lib/python3.8/site-packages (from networkx->root-gnn==1.0.0) (4.4.2)\n",
      "Requirement already satisfied: pytz>=2017.3 in /global/cfs/cdirs/atlas/xju/conda/envs/tutorial/lib/python3.8/site-packages (from pandas->root-gnn==1.0.0) (2020.5)\n",
      "Requirement already satisfied: scikit-learn in /global/cfs/cdirs/atlas/xju/conda/envs/tutorial/lib/python3.8/site-packages (from sklearn->root-gnn==1.0.0) (0.24.0)\n",
      "Requirement already satisfied: joblib>=0.11 in /global/cfs/cdirs/atlas/xju/conda/envs/tutorial/lib/python3.8/site-packages (from scikit-learn->sklearn->root-gnn==1.0.0) (1.0.0)\n",
      "Requirement already satisfied: threadpoolctl>=2.0.0 in /global/cfs/cdirs/atlas/xju/conda/envs/tutorial/lib/python3.8/site-packages (from scikit-learn->sklearn->root-gnn==1.0.0) (2.1.0)\n",
      "Collecting tables\n",
      "  Using cached tables-3.6.1-cp38-cp38-manylinux1_x86_64.whl (4.3 MB)\n",
      "Collecting numexpr>=2.6.2\n",
      "  Downloading numexpr-2.7.2-cp38-cp38-manylinux2010_x86_64.whl (472 kB)\n",
      "\u001b[K     |████████████████████████████████| 472 kB 26.4 MB/s eta 0:00:01\n",
      "\u001b[?25hCollecting tqdm\n",
      "  Downloading tqdm-4.56.0-py2.py3-none-any.whl (72 kB)\n",
      "\u001b[K     |████████████████████████████████| 72 kB 527 kB/s  eta 0:00:01\n",
      "\u001b[?25hInstalling collected packages: numexpr, tqdm, tables\n",
      "Successfully installed numexpr-2.7.2 tables-3.6.1 tqdm-4.56.0\n"
     ]
    }
   ],
   "source": [
    "!pip install git+https://github.com/xju2/root_gnn.git@v0.8.0"
   ]
  },
  {
   "cell_type": "markdown",
   "metadata": {
    "jupyter": {
     "source_hidden": true
    }
   },
   "source": [
    "```\n",
    "├── root_gnn\n",
    "│   ├── configs/\n",
    "│   ├── __init__.py\n",
    "│   ├── losses.py\n",
    "│   ├── model.py\n",
    "│   ├── optimizers.py\n",
    "│   ├── prepare.py\n",
    "│   ├── prepare_test.py\n",
    "│   ├── scripts\n",
    "│   │   ├── calculate_herwig_metrics\n",
    "│   │   ├── calculate_metrics\n",
    "│   │   ├── calculate_topreco_metrics\n",
    "│   │   ├── calculate_wtagger_metrics\n",
    "│   │   ├── create_tfrecord\n",
    "│   │   ├── evaluate_global_classifier\n",
    "│   │   ├── evaluate_herwig_hadron\n",
    "│   │   ├── evaluate_top_reco\n",
    "│   │   ├── evaluate_w_qcd_classifier\n",
    "│   │   ├── evaluate_wtagger\n",
    "│   │   ├── preprocess_hadrons.py\n",
    "│   │   ├── split_files_for_nn\n",
    "│   │   ├── train_classifier\n",
    "│   │   ├── train_decay_simulator\n",
    "│   │   ├── train_decay_simulator_regression\n",
    "│   │   ├── train_HI.py\n",
    "│   │   ├── train_top_reco.py\n",
    "│   │   └── view_training_log\n",
    "│   ├── src\n",
    "│   │   ├── datasets\n",
    "│   │   │   ├── __init__.py\n",
    "│   │   │   ├── base.py\n",
    "│   │   │   ├── fourtop.py\n",
    "│   │   │   ├── graph.py\n",
    "│   │   │   ├── graph_test.py\n",
    "│   │   │   ├── hadronic.py\n",
    "│   │   │   ├── herwig_hadrons.py\n",
    "│   │   │   ├── herwig_hadrons_v2.py\n",
    "│   │   │   ├── hyy_gen.py\n",
    "│   │   │   ├── toppair.py\n",
    "│   │   │   ├── topreco.py\n",
    "│   │   │   ├── toptagger.py\n",
    "│   │   │   ├── wprimefiltered.py\n",
    "│   │   │   ├── wprimeljet.py\n",
    "│   │   │   └── wprime.py\n",
    "│   │   ├── __init__.py\n",
    "│   │   ├── losses\n",
    "│   │   ├── models\n",
    "│   │       ├── __init__.py\n",
    "│   │       ├── base.py\n",
    "│   │       ├── decay_simulator.py\n",
    "│   │       ├── edge_classifier.py\n",
    "│   │       ├── edge_global_classifier.py\n",
    "│   │       ├── general_classifier.py\n",
    "│   │       ├── global_classifier.py\n",
    "│   │       ├── gnn_gan.py\n",
    "│   │       ├── model_utils.py\n",
    "│   │       ├── node_edge_classifier.py\n",
    "│   │       ├── node_predictor.py\n",
    "│   ├── trainer.py\n",
    "│   ├── utils_plot.py\n",
    "│   └── utils.py\n",
    "├── run.sh\n",
    "├── setup.py\n",
    "└── submit.sh\n",
    "```"
   ]
  },
  {
   "cell_type": "markdown",
   "metadata": {},
   "source": [
    "Procedures of training a GNN for event classification -- top quark tagger.\n",
    "\n",
    "1. Creating training graphs\n",
    "\n",
    "```bash\n",
    "create_tfrecord /global/homes/x/xju/atlas/data/top-tagger/train.h5 tfrec/train \\\n",
    "  --evts-per-record 100 --max-evts 1000 \\\n",
    "  --type TopTaggerDataset --num-workers 2\n",
    "```\n",
    "\n",
    "\n",
    "2. Creating validating graphs\n",
    "\n",
    "```bash\n",
    "create_tfrecord /global/homes/x/xju/atlas/data/top-tagger/val.h5 tfrec/val \\\n",
    "  --evts-per-record 100 --max-evts 1000 \\\n",
    "  --type TopTaggerDataset --num-workers 2\n",
    "```\n",
    "\n",
    "\n",
    "3. Creating testing graphs\n",
    "\n",
    "```bash\n",
    "create_tfrecord /global/homes/x/xju/atlas/data/top-tagger/test.h5 tfrec/test \\\n",
    "  --evts-per-record 100 --max-evts 1000 \\\n",
    "  --type TopTaggerDataset --num-workers 2\n",
    "```\n",
    "\n",
    "\n",
    "4. Training GNN\n",
    "\n",
    "```bash\n",
    "train_classifier config.yaml\n",
    "```\n",
    "\n",
    "\n",
    "5. Evaluating Outputs of GNN\n",
    "\n",
    "```bash\n",
    "evaluate_global_classifier config.yaml \"tfrec/test_*.tfrec\" test0\n",
    "```\n",
    "\n",
    "\n",
    "6. Calcuating output metrics\n",
    "\n",
    "```bash\n",
    "calculate_metrics test0.npz test0\n",
    "```"
   ]
  },
  {
   "cell_type": "markdown",
   "metadata": {},
   "source": [
    "### Creating graphs using networkx\n",
    "\n",
    "[networkx](https://networkx.org/documentation/stable/tutorial.html) is a Python package for the study of graphs.\n"
   ]
  },
  {
   "cell_type": "code",
   "execution_count": 40,
   "metadata": {},
   "outputs": [],
   "source": [
    "import matplotlib.pyplot as plt\n",
    "import numpy as np\n",
    "import pandas as pd\n",
    "import networkx as nx\n",
    "\n",
    "from graph_nets import utils_np\n",
    "from graph_nets import utils_tf\n",
    "from graph_nets import graphs"
   ]
  },
  {
   "cell_type": "code",
   "execution_count": 6,
   "metadata": {},
   "outputs": [],
   "source": [
    "g = nx.DiGraph()\n",
    "\n",
    "# add nodes\n",
    "[g.add_node(idx, features=np.array([1.*idx])) for idx in range(4)];\n",
    "\n",
    "# add edges\n",
    "edge_lists = [(0, 1), (1, 2), (2, 3), (3, 0)]\n",
    "[g.add_edge(i, j, features=np.array([abs(i-j)])) for i,j in edge_lists];"
   ]
  },
  {
   "cell_type": "code",
   "execution_count": 7,
   "metadata": {},
   "outputs": [
    {
     "data": {
      "image/png": "[encoded data removed]",
      "text/plain": [
       "<Figure size 288x288 with 1 Axes>"
      ]
     },
     "metadata": {},
     "output_type": "display_data"
    }
   ],
   "source": [
    "plt.figure(figsize=(4, 4))\n",
    "pos = nx.spring_layout(g)\n",
    "nx.draw(g, pos, node_size=400, alpha=0.85, node_color=\"#1f78b4\", with_labels=True)"
   ]
  },
  {
   "cell_type": "markdown",
   "metadata": {},
   "source": [
    "obtain the adjacency matrix"
   ]
  },
  {
   "cell_type": "code",
   "execution_count": 8,
   "metadata": {},
   "outputs": [
    {
     "data": {
      "text/plain": [
       "array([[0., 1., 0., 0.],\n",
       "       [0., 0., 1., 0.],\n",
       "       [0., 0., 0., 1.],\n",
       "       [1., 0., 0., 0.]])"
      ]
     },
     "execution_count": 8,
     "metadata": {},
     "output_type": "execute_result"
    }
   ],
   "source": [
    "adj = np.asarray(nx.to_numpy_matrix(g))\n",
    "adj"
   ]
  },
  {
   "cell_type": "code",
   "execution_count": 9,
   "metadata": {},
   "outputs": [
    {
     "data": {
      "text/plain": [
       "OutEdgeView([(0, 1), (1, 2), (2, 3), (3, 0)])"
      ]
     },
     "execution_count": 9,
     "metadata": {},
     "output_type": "execute_result"
    }
   ],
   "source": [
    "g.edges()"
   ]
  },
  {
   "cell_type": "code",
   "execution_count": 10,
   "metadata": {},
   "outputs": [],
   "source": [
    "g_tuple = utils_np.networkxs_to_graphs_tuple([g])"
   ]
  },
  {
   "cell_type": "code",
   "execution_count": 11,
   "metadata": {},
   "outputs": [
    {
     "data": {
      "text/plain": [
       "GraphsTuple(nodes=array([[0.],\n",
       "       [1.],\n",
       "       [2.],\n",
       "       [3.]]), edges=array([[1],\n",
       "       [1],\n",
       "       [1],\n",
       "       [3]]), receivers=array([1, 2, 3, 0], dtype=int32), senders=array([0, 1, 2, 3], dtype=int32), globals=None, n_node=array([4], dtype=int32), n_edge=array([4], dtype=int32))"
      ]
     },
     "execution_count": 11,
     "metadata": {},
     "output_type": "execute_result"
    }
   ],
   "source": [
    "g_tuple"
   ]
  },
  {
   "cell_type": "code",
   "execution_count": 45,
   "metadata": {},
   "outputs": [],
   "source": [
    "def print_graphs_tuple(g, data=True):\n",
    "    for field_name in graphs.ALL_FIELDS:\n",
    "        per_replica_sample = getattr(g, field_name)\n",
    "        if per_replica_sample is None:\n",
    "            print(field_name, \"EMPTY\")\n",
    "        else:\n",
    "            print(field_name, \"is with shape\", per_replica_sample.shape)\n",
    "            if data and  field_name != \"edges\":\n",
    "                print(per_replica_sample)"
   ]
  },
  {
   "cell_type": "code",
   "execution_count": 44,
   "metadata": {},
   "outputs": [
    {
     "name": "stdout",
     "output_type": "stream",
     "text": [
      "nodes is with shape (4, 1)\n",
      "[[0.]\n",
      " [1.]\n",
      " [2.]\n",
      " [3.]]\n",
      "edges is with shape (4, 1)\n",
      "receivers is with shape (4,)\n",
      "[1 2 3 0]\n",
      "senders is with shape (4,)\n",
      "[0 1 2 3]\n",
      "globals EMPTY\n",
      "n_node is with shape (1,)\n",
      "[4]\n",
      "n_edge is with shape (1,)\n",
      "[4]\n"
     ]
    }
   ],
   "source": [
    "print_graphs_tuple(g_tuple)"
   ]
  },
  {
   "cell_type": "markdown",
   "metadata": {},
   "source": [
    "### Create GraphsTuple using data-dict \\[recommend\\]"
   ]
  },
  {
   "cell_type": "code",
   "execution_count": 14,
   "metadata": {},
   "outputs": [],
   "source": [
    "n_node = 4\n",
    "n_node_features = 1\n",
    "n_edge = 4\n",
    "n_edge_features = 1\n",
    "nodes = np.random.rand(n_node, n_node_features).astype(np.float32)\n",
    "edges = np.random.rand(n_edge, n_edge_features).astype(np.float32)\n",
    "receivers = np.array([1, 2, 3, 0])\n",
    "senders = np.array([0, 1, 2, 3])\n",
    "datadict = {\n",
    "    \"n_node\": n_node,\n",
    "    \"n_edge\": n_edge,\n",
    "    \"nodes\": nodes,\n",
    "    \"edges\": edges,\n",
    "    \"senders\": senders,\n",
    "    \"receivers\": receivers,\n",
    "    \"globals\": np.array([0], dtype=np.float32)\n",
    "}"
   ]
  },
  {
   "cell_type": "code",
   "execution_count": 15,
   "metadata": {},
   "outputs": [],
   "source": [
    "g_tuple2 = utils_tf.data_dicts_to_graphs_tuple([datadict])"
   ]
  },
  {
   "cell_type": "code",
   "execution_count": 16,
   "metadata": {},
   "outputs": [
    {
     "name": "stdout",
     "output_type": "stream",
     "text": [
      "nodes tf.Tensor(\n",
      "[[0.8741005 ]\n",
      " [0.13004869]\n",
      " [0.81853694]\n",
      " [0.30023816]], shape=(4, 1), dtype=float32)\n",
      "edges tf.Tensor(\n",
      "[[0.06013998]\n",
      " [0.5929212 ]\n",
      " [0.90707844]\n",
      " [0.39467514]], shape=(4, 1), dtype=float32)\n",
      "receivers tf.Tensor([1 2 3 0], shape=(4,), dtype=int32)\n",
      "senders tf.Tensor([0 1 2 3], shape=(4,), dtype=int32)\n",
      "globals tf.Tensor([[0.]], shape=(1, 1), dtype=float32)\n",
      "n_node tf.Tensor([4], shape=(1,), dtype=int32)\n",
      "n_edge tf.Tensor([4], shape=(1,), dtype=int32)\n"
     ]
    }
   ],
   "source": [
    "print_graphs_tuple(g_tuple2)"
   ]
  },
  {
   "cell_type": "code",
   "execution_count": null,
   "metadata": {},
   "outputs": [],
   "source": []
  },
  {
   "cell_type": "markdown",
   "metadata": {},
   "source": [
    "### Can you finish implementing the following function?"
   ]
  },
  {
   "cell_type": "code",
   "execution_count": 17,
   "metadata": {},
   "outputs": [],
   "source": [
    "def fully_connected_edges(n_nodes: int):\n",
    "    \"\"\"For a given number of nodes, \n",
    "    return the senders and receivers for a fully-connected graph.\n",
    "    \"\"\"\n",
    "    \n",
    "    receivers = senders = n_edge = None\n",
    "    \n",
    "    return {\"receivers\": receivers, \"senders\": senders, \"n_edge\": n_edge}"
   ]
  },
  {
   "cell_type": "code",
   "execution_count": null,
   "metadata": {},
   "outputs": [],
   "source": []
  },
  {
   "cell_type": "markdown",
   "metadata": {},
   "source": [
    "### Convert an event to a fully-connected graph"
   ]
  },
  {
   "cell_type": "code",
   "execution_count": 19,
   "metadata": {},
   "outputs": [],
   "source": [
    "filename = '/global/homes/x/xju/atlas/data/top-tagger/test.h5'"
   ]
  },
  {
   "cell_type": "code",
   "execution_count": 22,
   "metadata": {},
   "outputs": [],
   "source": [
    "with pd.HDFStore(filename, mode='r') as store:\n",
    "    df = store['table']"
   ]
  },
  {
   "cell_type": "code",
   "execution_count": 23,
   "metadata": {},
   "outputs": [
    {
     "data": {
      "text/html": [
       "<div>\n",
       "<style scoped>\n",
       "    .dataframe tbody tr th:only-of-type {\n",
       "        vertical-align: middle;\n",
       "    }\n",
       "\n",
       "    .dataframe tbody tr th {\n",
       "        vertical-align: top;\n",
       "    }\n",
       "\n",
       "    .dataframe thead th {\n",
       "        text-align: right;\n",
       "    }\n",
       "</style>\n",
       "<table border=\"1\" class=\"dataframe\">\n",
       "  <thead>\n",
       "    <tr style=\"text-align: right;\">\n",
       "      <th></th>\n",
       "      <th>E_0</th>\n",
       "      <th>PX_0</th>\n",
       "      <th>PY_0</th>\n",
       "      <th>PZ_0</th>\n",
       "      <th>E_1</th>\n",
       "      <th>PX_1</th>\n",
       "      <th>PY_1</th>\n",
       "      <th>PZ_1</th>\n",
       "      <th>E_2</th>\n",
       "      <th>PX_2</th>\n",
       "      <th>...</th>\n",
       "      <th>E_199</th>\n",
       "      <th>PX_199</th>\n",
       "      <th>PY_199</th>\n",
       "      <th>PZ_199</th>\n",
       "      <th>truthE</th>\n",
       "      <th>truthPX</th>\n",
       "      <th>truthPY</th>\n",
       "      <th>truthPZ</th>\n",
       "      <th>ttv</th>\n",
       "      <th>is_signal_new</th>\n",
       "    </tr>\n",
       "  </thead>\n",
       "  <tbody>\n",
       "    <tr>\n",
       "      <th>436</th>\n",
       "      <td>218.364243</td>\n",
       "      <td>-172.341858</td>\n",
       "      <td>110.129105</td>\n",
       "      <td>-76.503624</td>\n",
       "      <td>153.661118</td>\n",
       "      <td>-111.320465</td>\n",
       "      <td>93.167969</td>\n",
       "      <td>-50.390713</td>\n",
       "      <td>76.708054</td>\n",
       "      <td>-56.523701</td>\n",
       "      <td>...</td>\n",
       "      <td>0.0</td>\n",
       "      <td>0.0</td>\n",
       "      <td>0.0</td>\n",
       "      <td>0.0</td>\n",
       "      <td>0.0</td>\n",
       "      <td>0.0</td>\n",
       "      <td>0.0</td>\n",
       "      <td>0.0</td>\n",
       "      <td>1</td>\n",
       "      <td>0</td>\n",
       "    </tr>\n",
       "    <tr>\n",
       "      <th>440</th>\n",
       "      <td>122.238762</td>\n",
       "      <td>26.738468</td>\n",
       "      <td>-91.613998</td>\n",
       "      <td>76.382225</td>\n",
       "      <td>121.227135</td>\n",
       "      <td>17.644758</td>\n",
       "      <td>-93.015450</td>\n",
       "      <td>75.715302</td>\n",
       "      <td>90.420105</td>\n",
       "      <td>21.377417</td>\n",
       "      <td>...</td>\n",
       "      <td>0.0</td>\n",
       "      <td>0.0</td>\n",
       "      <td>0.0</td>\n",
       "      <td>0.0</td>\n",
       "      <td>0.0</td>\n",
       "      <td>0.0</td>\n",
       "      <td>0.0</td>\n",
       "      <td>0.0</td>\n",
       "      <td>1</td>\n",
       "      <td>0</td>\n",
       "    </tr>\n",
       "    <tr>\n",
       "      <th>441</th>\n",
       "      <td>383.772308</td>\n",
       "      <td>-97.906456</td>\n",
       "      <td>79.640709</td>\n",
       "      <td>-362.426361</td>\n",
       "      <td>200.625992</td>\n",
       "      <td>-54.921326</td>\n",
       "      <td>37.994343</td>\n",
       "      <td>-189.184753</td>\n",
       "      <td>123.247223</td>\n",
       "      <td>-33.828953</td>\n",
       "      <td>...</td>\n",
       "      <td>0.0</td>\n",
       "      <td>0.0</td>\n",
       "      <td>0.0</td>\n",
       "      <td>0.0</td>\n",
       "      <td>0.0</td>\n",
       "      <td>0.0</td>\n",
       "      <td>0.0</td>\n",
       "      <td>0.0</td>\n",
       "      <td>1</td>\n",
       "      <td>0</td>\n",
       "    </tr>\n",
       "    <tr>\n",
       "      <th>444</th>\n",
       "      <td>132.492752</td>\n",
       "      <td>-77.763947</td>\n",
       "      <td>-87.322601</td>\n",
       "      <td>-62.304600</td>\n",
       "      <td>83.946594</td>\n",
       "      <td>-49.450481</td>\n",
       "      <td>-53.823605</td>\n",
       "      <td>-41.288010</td>\n",
       "      <td>28.072624</td>\n",
       "      <td>-19.964916</td>\n",
       "      <td>...</td>\n",
       "      <td>0.0</td>\n",
       "      <td>0.0</td>\n",
       "      <td>0.0</td>\n",
       "      <td>0.0</td>\n",
       "      <td>0.0</td>\n",
       "      <td>0.0</td>\n",
       "      <td>0.0</td>\n",
       "      <td>0.0</td>\n",
       "      <td>1</td>\n",
       "      <td>0</td>\n",
       "    </tr>\n",
       "    <tr>\n",
       "      <th>445</th>\n",
       "      <td>730.786987</td>\n",
       "      <td>-209.120010</td>\n",
       "      <td>-193.454315</td>\n",
       "      <td>-672.973877</td>\n",
       "      <td>225.477325</td>\n",
       "      <td>-75.363350</td>\n",
       "      <td>-66.226990</td>\n",
       "      <td>-201.926651</td>\n",
       "      <td>217.040192</td>\n",
       "      <td>-63.698189</td>\n",
       "      <td>...</td>\n",
       "      <td>0.0</td>\n",
       "      <td>0.0</td>\n",
       "      <td>0.0</td>\n",
       "      <td>0.0</td>\n",
       "      <td>0.0</td>\n",
       "      <td>0.0</td>\n",
       "      <td>0.0</td>\n",
       "      <td>0.0</td>\n",
       "      <td>1</td>\n",
       "      <td>0</td>\n",
       "    </tr>\n",
       "  </tbody>\n",
       "</table>\n",
       "<p>5 rows × 806 columns</p>\n",
       "</div>"
      ],
      "text/plain": [
       "            E_0        PX_0        PY_0        PZ_0         E_1        PX_1  \\\n",
       "436  218.364243 -172.341858  110.129105  -76.503624  153.661118 -111.320465   \n",
       "440  122.238762   26.738468  -91.613998   76.382225  121.227135   17.644758   \n",
       "441  383.772308  -97.906456   79.640709 -362.426361  200.625992  -54.921326   \n",
       "444  132.492752  -77.763947  -87.322601  -62.304600   83.946594  -49.450481   \n",
       "445  730.786987 -209.120010 -193.454315 -672.973877  225.477325  -75.363350   \n",
       "\n",
       "          PY_1        PZ_1         E_2       PX_2  ...  E_199  PX_199  PY_199  \\\n",
       "436  93.167969  -50.390713   76.708054 -56.523701  ...    0.0     0.0     0.0   \n",
       "440 -93.015450   75.715302   90.420105  21.377417  ...    0.0     0.0     0.0   \n",
       "441  37.994343 -189.184753  123.247223 -33.828953  ...    0.0     0.0     0.0   \n",
       "444 -53.823605  -41.288010   28.072624 -19.964916  ...    0.0     0.0     0.0   \n",
       "445 -66.226990 -201.926651  217.040192 -63.698189  ...    0.0     0.0     0.0   \n",
       "\n",
       "     PZ_199  truthE  truthPX  truthPY  truthPZ  ttv  is_signal_new  \n",
       "436     0.0     0.0      0.0      0.0      0.0    1              0  \n",
       "440     0.0     0.0      0.0      0.0      0.0    1              0  \n",
       "441     0.0     0.0      0.0      0.0      0.0    1              0  \n",
       "444     0.0     0.0      0.0      0.0      0.0    1              0  \n",
       "445     0.0     0.0      0.0      0.0      0.0    1              0  \n",
       "\n",
       "[5 rows x 806 columns]"
      ]
     },
     "execution_count": 23,
     "metadata": {},
     "output_type": "execute_result"
    }
   ],
   "source": [
    "df.head()"
   ]
  },
  {
   "cell_type": "code",
   "execution_count": 27,
   "metadata": {},
   "outputs": [
    {
     "data": {
      "text/html": [
       "<div>\n",
       "<style scoped>\n",
       "    .dataframe tbody tr th:only-of-type {\n",
       "        vertical-align: middle;\n",
       "    }\n",
       "\n",
       "    .dataframe tbody tr th {\n",
       "        vertical-align: top;\n",
       "    }\n",
       "\n",
       "    .dataframe thead th {\n",
       "        text-align: right;\n",
       "    }\n",
       "</style>\n",
       "<table border=\"1\" class=\"dataframe\">\n",
       "  <thead>\n",
       "    <tr style=\"text-align: right;\">\n",
       "      <th></th>\n",
       "      <th>E_0</th>\n",
       "      <th>PX_0</th>\n",
       "      <th>PY_0</th>\n",
       "      <th>PZ_0</th>\n",
       "      <th>E_1</th>\n",
       "      <th>PX_1</th>\n",
       "      <th>PY_1</th>\n",
       "      <th>PZ_1</th>\n",
       "      <th>E_2</th>\n",
       "      <th>PX_2</th>\n",
       "      <th>...</th>\n",
       "      <th>E_199</th>\n",
       "      <th>PX_199</th>\n",
       "      <th>PY_199</th>\n",
       "      <th>PZ_199</th>\n",
       "      <th>truthE</th>\n",
       "      <th>truthPX</th>\n",
       "      <th>truthPY</th>\n",
       "      <th>truthPZ</th>\n",
       "      <th>ttv</th>\n",
       "      <th>is_signal_new</th>\n",
       "    </tr>\n",
       "  </thead>\n",
       "  <tbody>\n",
       "    <tr>\n",
       "      <th>275</th>\n",
       "      <td>65.646370</td>\n",
       "      <td>-58.526817</td>\n",
       "      <td>29.698223</td>\n",
       "      <td>-1.439855</td>\n",
       "      <td>64.047226</td>\n",
       "      <td>-36.257854</td>\n",
       "      <td>46.957092</td>\n",
       "      <td>24.133938</td>\n",
       "      <td>46.889977</td>\n",
       "      <td>-26.141216</td>\n",
       "      <td>...</td>\n",
       "      <td>0.0</td>\n",
       "      <td>0.0</td>\n",
       "      <td>0.0</td>\n",
       "      <td>0.0</td>\n",
       "      <td>609.978516</td>\n",
       "      <td>-425.223938</td>\n",
       "      <td>360.547333</td>\n",
       "      <td>179.307800</td>\n",
       "      <td>1</td>\n",
       "      <td>1</td>\n",
       "    </tr>\n",
       "    <tr>\n",
       "      <th>278</th>\n",
       "      <td>182.433838</td>\n",
       "      <td>-67.388512</td>\n",
       "      <td>-150.770279</td>\n",
       "      <td>77.519150</td>\n",
       "      <td>105.039909</td>\n",
       "      <td>-24.843391</td>\n",
       "      <td>-70.149010</td>\n",
       "      <td>74.130325</td>\n",
       "      <td>99.697556</td>\n",
       "      <td>-25.996574</td>\n",
       "      <td>...</td>\n",
       "      <td>0.0</td>\n",
       "      <td>0.0</td>\n",
       "      <td>0.0</td>\n",
       "      <td>0.0</td>\n",
       "      <td>761.416626</td>\n",
       "      <td>-368.340454</td>\n",
       "      <td>-444.232635</td>\n",
       "      <td>466.554565</td>\n",
       "      <td>1</td>\n",
       "      <td>1</td>\n",
       "    </tr>\n",
       "    <tr>\n",
       "      <th>285</th>\n",
       "      <td>218.015808</td>\n",
       "      <td>-142.368179</td>\n",
       "      <td>19.166389</td>\n",
       "      <td>-163.996475</td>\n",
       "      <td>151.196808</td>\n",
       "      <td>-75.772964</td>\n",
       "      <td>7.036884</td>\n",
       "      <td>-130.649979</td>\n",
       "      <td>64.975327</td>\n",
       "      <td>-49.838360</td>\n",
       "      <td>...</td>\n",
       "      <td>0.0</td>\n",
       "      <td>0.0</td>\n",
       "      <td>0.0</td>\n",
       "      <td>0.0</td>\n",
       "      <td>1055.739014</td>\n",
       "      <td>-647.505615</td>\n",
       "      <td>54.828110</td>\n",
       "      <td>-814.257935</td>\n",
       "      <td>1</td>\n",
       "      <td>1</td>\n",
       "    </tr>\n",
       "    <tr>\n",
       "      <th>302</th>\n",
       "      <td>116.801796</td>\n",
       "      <td>90.702217</td>\n",
       "      <td>-54.621929</td>\n",
       "      <td>49.317455</td>\n",
       "      <td>87.957840</td>\n",
       "      <td>44.834236</td>\n",
       "      <td>-44.274315</td>\n",
       "      <td>61.369846</td>\n",
       "      <td>66.443222</td>\n",
       "      <td>31.902834</td>\n",
       "      <td>...</td>\n",
       "      <td>0.0</td>\n",
       "      <td>0.0</td>\n",
       "      <td>0.0</td>\n",
       "      <td>0.0</td>\n",
       "      <td>669.998962</td>\n",
       "      <td>439.078888</td>\n",
       "      <td>-269.705780</td>\n",
       "      <td>392.723145</td>\n",
       "      <td>1</td>\n",
       "      <td>1</td>\n",
       "    </tr>\n",
       "    <tr>\n",
       "      <th>308</th>\n",
       "      <td>114.989540</td>\n",
       "      <td>-70.048080</td>\n",
       "      <td>-66.881485</td>\n",
       "      <td>-61.989738</td>\n",
       "      <td>74.398933</td>\n",
       "      <td>-57.145046</td>\n",
       "      <td>-44.540745</td>\n",
       "      <td>-16.904631</td>\n",
       "      <td>48.529976</td>\n",
       "      <td>-37.200237</td>\n",
       "      <td>...</td>\n",
       "      <td>0.0</td>\n",
       "      <td>0.0</td>\n",
       "      <td>0.0</td>\n",
       "      <td>0.0</td>\n",
       "      <td>803.532227</td>\n",
       "      <td>-520.018433</td>\n",
       "      <td>-429.099030</td>\n",
       "      <td>-403.125366</td>\n",
       "      <td>1</td>\n",
       "      <td>1</td>\n",
       "    </tr>\n",
       "  </tbody>\n",
       "</table>\n",
       "<p>5 rows × 806 columns</p>\n",
       "</div>"
      ],
      "text/plain": [
       "            E_0        PX_0        PY_0        PZ_0         E_1       PX_1  \\\n",
       "275   65.646370  -58.526817   29.698223   -1.439855   64.047226 -36.257854   \n",
       "278  182.433838  -67.388512 -150.770279   77.519150  105.039909 -24.843391   \n",
       "285  218.015808 -142.368179   19.166389 -163.996475  151.196808 -75.772964   \n",
       "302  116.801796   90.702217  -54.621929   49.317455   87.957840  44.834236   \n",
       "308  114.989540  -70.048080  -66.881485  -61.989738   74.398933 -57.145046   \n",
       "\n",
       "          PY_1        PZ_1        E_2       PX_2  ...  E_199  PX_199  PY_199  \\\n",
       "275  46.957092   24.133938  46.889977 -26.141216  ...    0.0     0.0     0.0   \n",
       "278 -70.149010   74.130325  99.697556 -25.996574  ...    0.0     0.0     0.0   \n",
       "285   7.036884 -130.649979  64.975327 -49.838360  ...    0.0     0.0     0.0   \n",
       "302 -44.274315   61.369846  66.443222  31.902834  ...    0.0     0.0     0.0   \n",
       "308 -44.540745  -16.904631  48.529976 -37.200237  ...    0.0     0.0     0.0   \n",
       "\n",
       "     PZ_199       truthE     truthPX     truthPY     truthPZ  ttv  \\\n",
       "275     0.0   609.978516 -425.223938  360.547333  179.307800    1   \n",
       "278     0.0   761.416626 -368.340454 -444.232635  466.554565    1   \n",
       "285     0.0  1055.739014 -647.505615   54.828110 -814.257935    1   \n",
       "302     0.0   669.998962  439.078888 -269.705780  392.723145    1   \n",
       "308     0.0   803.532227 -520.018433 -429.099030 -403.125366    1   \n",
       "\n",
       "     is_signal_new  \n",
       "275              1  \n",
       "278              1  \n",
       "285              1  \n",
       "302              1  \n",
       "308              1  \n",
       "\n",
       "[5 rows x 806 columns]"
      ]
     },
     "execution_count": 27,
     "metadata": {},
     "output_type": "execute_result"
    }
   ],
   "source": [
    "df[df['is_signal_new'] == 1].head()"
   ]
  },
  {
   "cell_type": "code",
   "execution_count": 29,
   "metadata": {},
   "outputs": [
    {
     "data": {
      "text/plain": [
       "E_0              218.364243\n",
       "PX_0            -172.341858\n",
       "PY_0             110.129105\n",
       "PZ_0             -76.503624\n",
       "E_1              153.661118\n",
       "                    ...    \n",
       "truthPX            0.000000\n",
       "truthPY            0.000000\n",
       "truthPZ            0.000000\n",
       "ttv                1.000000\n",
       "is_signal_new      0.000000\n",
       "Name: 436, Length: 806, dtype: float64"
      ]
     },
     "execution_count": 29,
     "metadata": {},
     "output_type": "execute_result"
    }
   ],
   "source": [
    "event = df.iloc[0]\n",
    "event"
   ]
  },
  {
   "cell_type": "code",
   "execution_count": 34,
   "metadata": {},
   "outputs": [],
   "source": [
    "import itertools\n",
    "from typing import Optional\n",
    "\n",
    "features = ['E', 'PX', 'PY', 'PZ']\n",
    "scale = 0.001\n",
    "solution = 'is_signal_new'\n",
    "\n",
    "def make_graph(event, debug: Optional[bool] = False):\n",
    "    n_max_nodes = 200\n",
    "    n_nodes = 0\n",
    "    nodes = []\n",
    "    for inode in range(n_max_nodes):\n",
    "        E_name = 'E_{}'.format(inode)\n",
    "        if event[E_name] < 0.1:\n",
    "            continue\n",
    "\n",
    "        f_keynames = ['{}_{}'.format(x, inode) for x in features]\n",
    "        n_nodes += 1\n",
    "        nodes.append(event[f_keynames].values*scale)\n",
    "    nodes = np.array(nodes, dtype=np.float32)\n",
    "    # print(n_nodes, \"nodes\")\n",
    "    # print(\"node features:\", nodes.shape)\n",
    "\n",
    "    # edges 1) fully connected, 2) objects nearby in eta/phi are connected\n",
    "    # TODO: implement 2). <xju>\n",
    "    all_edges = list(itertools.combinations(range(n_nodes), 2))\n",
    "    senders = np.array([x[0] for x in all_edges])\n",
    "    receivers = np.array([x[1] for x in all_edges])\n",
    "    n_edges = len(all_edges)\n",
    "    edges = np.expand_dims(np.array([0.0]*n_edges, dtype=np.float32), axis=1)\n",
    "    # print(n_edges, \"edges\")\n",
    "    # print(\"senders:\", senders)\n",
    "    # print(\"receivers:\", receivers)\n",
    "\n",
    "    input_datadict = {\n",
    "        \"n_node\": n_nodes,\n",
    "        \"n_edge\": n_edges,\n",
    "        \"nodes\": nodes,\n",
    "        \"edges\": edges,\n",
    "        \"senders\": senders,\n",
    "        \"receivers\": receivers,\n",
    "        \"globals\": np.array([n_nodes], dtype=np.float32)\n",
    "    }\n",
    "    target_datadict = {\n",
    "        \"n_node\": n_nodes,\n",
    "        \"n_edge\": n_edges,\n",
    "        \"nodes\": nodes,\n",
    "        \"edges\": edges,\n",
    "        \"senders\": senders,\n",
    "        \"receivers\": receivers,\n",
    "        \"globals\": np.array([event[solution]], dtype=np.float32)\n",
    "    }\n",
    "    input_graph = utils_tf.data_dicts_to_graphs_tuple([input_datadict])\n",
    "    target_graph = utils_tf.data_dicts_to_graphs_tuple([target_datadict])\n",
    "    return [(input_graph, target_graph)]"
   ]
  },
  {
   "cell_type": "code",
   "execution_count": 35,
   "metadata": {},
   "outputs": [],
   "source": [
    "graphs = make_graph(event)"
   ]
  },
  {
   "cell_type": "code",
   "execution_count": 36,
   "metadata": {},
   "outputs": [],
   "source": [
    "g_evt_input, g_evt_target = graphs[0]"
   ]
  },
  {
   "cell_type": "code",
   "execution_count": 47,
   "metadata": {},
   "outputs": [
    {
     "name": "stdout",
     "output_type": "stream",
     "text": [
      "nodes is with shape (17, 4)\n",
      "edges is with shape (136, 1)\n",
      "receivers is with shape (136,)\n",
      "senders is with shape (136,)\n",
      "globals is with shape (1, 1)\n",
      "n_node is with shape (1,)\n",
      "n_edge is with shape (1,)\n"
     ]
    }
   ],
   "source": [
    "print_graphs_tuple(g_evt_input, data=False)"
   ]
  },
  {
   "cell_type": "code",
   "execution_count": 50,
   "metadata": {},
   "outputs": [
    {
     "data": {
      "text/plain": [
       "136"
      ]
     },
     "execution_count": 50,
     "metadata": {},
     "output_type": "execute_result"
    }
   ],
   "source": [
    "17*16//2"
   ]
  },
  {
   "cell_type": "code",
   "execution_count": 51,
   "metadata": {},
   "outputs": [
    {
     "data": {
      "text/plain": [
       "<tf.Tensor: shape=(1, 1), dtype=float32, numpy=array([[0.]], dtype=float32)>"
      ]
     },
     "execution_count": 51,
     "metadata": {},
     "output_type": "execute_result"
    }
   ],
   "source": [
    "g_evt_target.globals"
   ]
  },
  {
   "cell_type": "markdown",
   "metadata": {},
   "source": [
    "### 2. Graph Neural Network"
   ]
  },
  {
   "cell_type": "markdown",
   "metadata": {},
   "source": [
    "-----------------------------------\n",
    "```python\n",
    "\n",
    "NUM_LAYERS = 2 \n",
    "def make_mlp_model():\n",
    "  \"\"\"Instantiates a new MLP, followed by LayerNorm.\n",
    "\n",
    "  The parameters of each new MLP are not shared with others generated by\n",
    "  this function.\n",
    "\n",
    "  Returns:\n",
    "    A Sonnet module which contains the MLP and LayerNorm.\n",
    "  \"\"\"\n",
    "  # the activation function choices:\n",
    "  # swish, relu, relu6, leaky_relu\n",
    "  return snt.Sequential([\n",
    "      snt.nets.MLP([128, 64]*NUM_LAYERS,\n",
    "                    activation=tf.nn.relu,\n",
    "                    activate_final=True, \n",
    "                  #  dropout_rate=DROPOUT_RATE\n",
    "        ),\n",
    "      snt.LayerNorm(axis=-1, create_scale=True, create_offset=False)\n",
    "  ])\n",
    "```\n",
    "\n",
    "-----------------------------------\n",
    "\n",
    "```python\n",
    "import tensorflow as tf\n",
    "import sonnet as snt\n",
    "\n",
    "from graph_nets import utils_tf\n",
    "from graph_nets import modules\n",
    "from graph_nets import blocks\n",
    "\n",
    "from root_gnn.src.models.base import MLPGraphNetwork\n",
    "from root_gnn.src.models.base import make_mlp_model\n",
    "\n",
    "LATENT_SIZE = 128\n",
    "\n",
    "class GlobalClassifierNoEdgeInfo(snt.Module):\n",
    "\n",
    "    def __init__(self, name=\"GlobalClassifierNoEdgeInfo\"):\n",
    "        super(GlobalClassifierNoEdgeInfo, self).__init__(name=name)\n",
    "\n",
    "        self._edge_block = blocks.EdgeBlock(\n",
    "            edge_model_fn=make_mlp_model,\n",
    "            use_edges=False,\n",
    "            use_receiver_nodes=True,\n",
    "            use_sender_nodes=True,\n",
    "            use_globals=False,\n",
    "            name='edge_encoder_block')\n",
    "\n",
    "        self._node_encoder_block = blocks.NodeBlock(\n",
    "            node_model_fn=make_mlp_model,\n",
    "            use_received_edges=False,\n",
    "            use_sent_edges=False,\n",
    "            use_nodes=True,\n",
    "            use_globals=False,\n",
    "            name='node_encoder_block'\n",
    "        )\n",
    "\n",
    "        self._global_block = blocks.GlobalBlock(\n",
    "            global_model_fn=make_mlp_model,\n",
    "            use_edges=True,\n",
    "            use_nodes=True,\n",
    "            use_globals=False,\n",
    "        )\n",
    "        \n",
    "        self._core = MLPGraphNetwork()\n",
    "        # Transforms the outputs into appropriate shapes.\n",
    "        global_output_size = 1\n",
    "        global_fn =lambda: snt.Sequential([\n",
    "            snt.nets.MLP([LATENT_SIZE, global_output_size],\n",
    "                         name='global_output'), tf.sigmoid])\n",
    "\n",
    "        self._output_transform = modules.GraphIndependent(None, None, global_fn)\n",
    "\n",
    "    def __call__(self, input_op, num_processing_steps):\n",
    "        latent = self._global_block(self._edge_block(self._node_encoder_block(input_op)))\n",
    "        latent0 = latent\n",
    "\n",
    "        output_ops = []\n",
    "        for _ in range(num_processing_steps):\n",
    "            core_input = utils_tf.concat([latent0, latent], axis=1)\n",
    "            latent = self._core(core_input)\n",
    "            output_ops.append(self._output_transform(latent))\n",
    "\n",
    "        return output_ops\n",
    "```\n",
    "-----------------------------------"
   ]
  },
  {
   "cell_type": "markdown",
   "metadata": {},
   "source": [
    "### 3. Training GNN"
   ]
  },
  {
   "cell_type": "code",
   "execution_count": 63,
   "metadata": {},
   "outputs": [],
   "source": [
    "from root_gnn import model as all_models\n",
    "import sonnet as snt\n",
    "from root_gnn import losses"
   ]
  },
  {
   "cell_type": "code",
   "execution_count": 54,
   "metadata": {},
   "outputs": [],
   "source": [
    "model = all_models.GlobalClassifierNoEdgeInfo()"
   ]
  },
  {
   "cell_type": "code",
   "execution_count": 58,
   "metadata": {},
   "outputs": [],
   "source": [
    "num_processing_steps_tr = 10\n",
    "outputs_tr = model(g_evt_input, num_processing_steps_tr)"
   ]
  },
  {
   "cell_type": "code",
   "execution_count": 60,
   "metadata": {},
   "outputs": [
    {
     "data": {
      "text/plain": [
       "<tf.Tensor: shape=(1, 1), dtype=float32, numpy=array([[0.830726]], dtype=float32)>"
      ]
     },
     "execution_count": 60,
     "metadata": {},
     "output_type": "execute_result"
    }
   ],
   "source": [
    "outputs_tr[-1].globals"
   ]
  },
  {
   "cell_type": "code",
   "execution_count": 61,
   "metadata": {},
   "outputs": [
    {
     "data": {
      "text/plain": [
       "<tf.Tensor: shape=(1, 1), dtype=float32, numpy=array([[0.]], dtype=float32)>"
      ]
     },
     "execution_count": 61,
     "metadata": {},
     "output_type": "execute_result"
    }
   ],
   "source": [
    "g_evt_target.globals"
   ]
  },
  {
   "cell_type": "code",
   "execution_count": 64,
   "metadata": {},
   "outputs": [],
   "source": [
    "loss_fcn = losses.GlobalLoss(real_global_weight=1., fake_global_weight=1.)"
   ]
  },
  {
   "cell_type": "code",
   "execution_count": 71,
   "metadata": {},
   "outputs": [
    {
     "data": {
      "text/plain": [
       "<tf.Tensor: shape=(10,), dtype=float32, numpy=\n",
       "array([1.3118321, 1.3346683, 1.3851619, 1.6789978, 1.3337222, 1.4066285,\n",
       "       1.6209898, 1.3433552, 1.4465828, 1.776236 ], dtype=float32)>"
      ]
     },
     "execution_count": 71,
     "metadata": {},
     "output_type": "execute_result"
    }
   ],
   "source": [
    "loss_fcn(g_evt_target, outputs_tr)"
   ]
  },
  {
   "cell_type": "code",
   "execution_count": 62,
   "metadata": {},
   "outputs": [],
   "source": [
    "learning_rate = 0.0005\n",
    "optimizer = snt.optimizers.Adam(learning_rate)"
   ]
  },
  {
   "cell_type": "markdown",
   "metadata": {},
   "source": [
    "```python\n",
    "@functools.partial(tf.function, input_signature=input_signature)\n",
    "def update_step(inputs_tr, targets_tr):\n",
    "    print(\"Tracing update_step\")\n",
    "    with tf.GradientTape() as tape:\n",
    "        outputs_tr = model(inputs_tr, num_processing_steps_tr)\n",
    "        loss_ops_tr = loss_fcn(targets_tr, outputs_tr)\n",
    "        loss_op_tr = tf.math.reduce_sum(loss_ops_tr) / tf.constant(num_processing_steps_tr, dtype=tf.float32)\n",
    "\n",
    "    gradients = tape.gradient(loss_op_tr, model.trainable_variables)\n",
    "    optimizer.apply(gradients, model.trainable_variables)\n",
    "    return outputs_tr, loss_op_tr\n",
    "```"
   ]
  },
  {
   "cell_type": "markdown",
   "metadata": {},
   "source": [
    "### 4. Evaluating GNN"
   ]
  },
  {
   "cell_type": "code",
   "execution_count": null,
   "metadata": {},
   "outputs": [],
   "source": []
  }
 ],
 "metadata": {
  "kernelspec": {
   "display_name": "a-Tutorial",
   "language": "python",
   "name": "tutorial"
  },
  "language_info": {
   "codemirror_mode": {
    "name": "ipython",
    "version": 3
   },
   "file_extension": ".py",
   "mimetype": "text/x-python",
   "name": "python",
   "nbconvert_exporter": "python",
   "pygments_lexer": "ipython3",
   "version": "3.8.5"
  }
 },
 "nbformat": 4,
 "nbformat_minor": 4
}
